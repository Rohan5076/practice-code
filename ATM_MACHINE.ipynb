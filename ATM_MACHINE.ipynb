{
  "nbformat": 4,
  "nbformat_minor": 0,
  "metadata": {
    "colab": {
      "name": "ATM MACHINE.ipynb",
      "provenance": [],
      "collapsed_sections": [],
      "authorship_tag": "ABX9TyN9O3D+RIlEmoUtH/G/fdUW",
      "include_colab_link": true
    },
    "kernelspec": {
      "name": "python3",
      "display_name": "Python 3"
    },
    "language_info": {
      "name": "python"
    }
  },
  "cells": [
    {
      "cell_type": "markdown",
      "metadata": {
        "id": "view-in-github",
        "colab_type": "text"
      },
      "source": [
        "<a href=\"https://colab.research.google.com/github/krio5076/practice-code/blob/main/ATM_MACHINE.ipynb\" target=\"_parent\"><img src=\"https://colab.research.google.com/assets/colab-badge.svg\" alt=\"Open In Colab\"/></a>"
      ]
    },
    {
      "cell_type": "code",
      "execution_count": 3,
      "metadata": {
        "id": "ukilI5aFiRzh",
        "colab": {
          "base_uri": "https://localhost:8080/"
        },
        "outputId": "e10e2541-025f-40f5-90e4-7aacc1207cdf"
      },
      "outputs": [
        {
          "name": "stdout",
          "output_type": "stream",
          "text": [
            "\n",
            "welcome to atm\n",
            "please enter your four digit pin:1234\n",
            "what do you want to do\n",
            " Enter 1 to Widthdraw Cash \n",
            " Enter 2 for Balance Enquiry \n",
            " Enter 3 to Quit\n",
            "enter number corresponding to the activity you want to do :1\n",
            "enter the amount of money you want to withdraw576\n",
            " 576 rupees successfully withdrawn  your remaining balance is 424 ruppe\n",
            "\n",
            "what do you want to do\n",
            " Enter 1 to Widthdraw Cash \n",
            " Enter 2 for Balance Enquiry \n",
            " Enter 3 to Quit\n",
            "enter number corresponding to the activity you want to do :3\n"
          ]
        }
      ],
      "source": [
        "user={'pin':1234,'balance':1000}\n",
        "def withdraw_cash():\n",
        "  while True:\n",
        "    amount=int(input(\"enter the amount of money you want to withdraw\"))\n",
        "    if amount>user['balance']:\n",
        "      print(\"you dont have sufficient balance to make this transaction\")\n",
        "    else:\n",
        "      user['balance']=user['balance']-amount\n",
        "      print(f\" { amount } rupees successfully withdrawn  your remaining balance is {user ['balance']} ruppe\" )\n",
        "      print('')\n",
        "      return False\n",
        "def balance_enquiry():\n",
        "  print(f\"total balance{user['balance ']} rupees\")\n",
        "\n",
        "is_quit=False\n",
        "print('')\n",
        "print(\"welcome to atm\")\n",
        "pin=int(input('please enter your four digit pin:'))\n",
        "if pin==user['pin']:\n",
        "  while is_quit==False:\n",
        "    print(\"what do you want to do\")\n",
        "    print(\" Enter 1 to Widthdraw Cash \\n Enter 2 for Balance Enquiry \\n Enter 3 to Quit\")\n",
        "    query =int(input(\"enter number corresponding to the activity you want to do :\"))\n",
        "\n",
        "    if query==1:\n",
        "      withdraw_cash()\n",
        "    elif query==2:\n",
        "      balance_enquiry()\n",
        "    elif query == 3:\n",
        "      is_quit=True\n",
        "    else:\n",
        "      print(\"please enter a correct value shown\")\n",
        "else:\n",
        "  print(\"entered wrong pin\")"
      ]
    },
    {
      "cell_type": "code",
      "source": [
        ""
      ],
      "metadata": {
        "id": "uO01PdijcMEC"
      },
      "execution_count": null,
      "outputs": []
    }
  ]
}