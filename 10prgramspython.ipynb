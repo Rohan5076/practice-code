{
  "nbformat": 4,
  "nbformat_minor": 0,
  "metadata": {
    "colab": {
      "name": "10prgramspython.ipynb",
      "provenance": [],
      "collapsed_sections": [],
      "authorship_tag": "ABX9TyOFPZllNymX9wHPc8DCa+C7",
      "include_colab_link": true
    },
    "kernelspec": {
      "name": "python3",
      "display_name": "Python 3"
    },
    "language_info": {
      "name": "python"
    }
  },
  "cells": [
    {
      "cell_type": "markdown",
      "metadata": {
        "id": "view-in-github",
        "colab_type": "text"
      },
      "source": [
        "<a href=\"https://colab.research.google.com/github/Rohan5076/practice-code/blob/main/10prgramspython.ipynb\" target=\"_parent\"><img src=\"https://colab.research.google.com/assets/colab-badge.svg\" alt=\"Open In Colab\"/></a>"
      ]
    },
    {
      "cell_type": "code",
      "execution_count": 4,
      "metadata": {
        "colab": {
          "base_uri": "https://localhost:8080/"
        },
        "id": "TUIC6KaoB86R",
        "outputId": "d58e42a9-b20b-4beb-de54-481b70642e21"
      },
      "outputs": [
        {
          "output_type": "stream",
          "name": "stdout",
          "text": [
            "    *     *     *     *     *     *     *     *     *     *     *     *     *     *     *  \n",
            "    *     *     *     *     *     *     *     *     *     *     *     *     *     *  \n",
            "    *     *     *     *     *     *     *     *     *     *     *     *     *  \n",
            "    *     *     *     *     *     *     *     *     *     *     *     *  \n",
            "    *     *     *     *     *     *     *     *     *     *     *  \n",
            "    *     *     *     *     *     *     *     *     *     *  \n",
            "    *     *     *     *     *     *     *     *     *  \n",
            "    *     *     *     *     *     *     *     *  \n",
            "    *     *     *     *     *     *     *  \n",
            "    *     *     *     *     *     *  \n",
            "    *     *     *     *     *  \n",
            "    *     *     *     *  \n",
            "    *     *     *  \n",
            "    *     *  \n",
            "    *  \n"
          ]
        }
      ],
      "source": [
        "n=15\n",
        "for i in range (n,0,-1):\n",
        "  print(* ' ' +i * ' * ')"
      ]
    },
    {
      "cell_type": "code",
      "source": [
        "n=5\n",
        "for i in range (n,0,-1):\n",
        "  print((n-1)*' ' +i* ' * ')"
      ],
      "metadata": {
        "colab": {
          "base_uri": "https://localhost:8080/"
        },
        "id": "unZz1ncICmTx",
        "outputId": "375b7d8f-3006-4556-9752-9f2779564cb7"
      },
      "execution_count": 6,
      "outputs": [
        {
          "output_type": "stream",
          "name": "stdout",
          "text": [
            "     *  *  *  *  * \n",
            "     *  *  *  * \n",
            "     *  *  * \n",
            "     *  * \n",
            "     * \n"
          ]
        }
      ]
    },
    {
      "cell_type": "code",
      "source": [
        "s= \"malayalam\"\n",
        "if s==s[::-1]:\n",
        "  print(\"yes\")\n",
        "else:\n",
        "  print(\"no\")"
      ],
      "metadata": {
        "colab": {
          "base_uri": "https://localhost:8080/"
        },
        "id": "ZQWIBswxGGpz",
        "outputId": "a8aed5a2-3b56-4d96-e155-2d58b5a7f7b1"
      },
      "execution_count": 8,
      "outputs": [
        {
          "output_type": "stream",
          "name": "stdout",
          "text": [
            "yes\n"
          ]
        }
      ]
    },
    {
      "cell_type": "code",
      "source": [
        "def removeduplicates(str):\n",
        "  s=set(str)\n",
        "  s=\"\".join(s)\n",
        "  print(\"without order:\",s)\n",
        "  t=\"\"\n",
        "  for i in str:\n",
        "    if (i in t):\n",
        "      pass\n",
        "    else:\n",
        "      t=t+i\n",
        "  print(\"the order:\",t)\n",
        "str=\"python is easy language\"\n",
        "removeduplicates(str)"
      ],
      "metadata": {
        "colab": {
          "base_uri": "https://localhost:8080/"
        },
        "id": "V_ljeRB5GnQy",
        "outputId": "15cf192e-87e1-45cf-c9d5-b92675deb1e6"
      },
      "execution_count": 11,
      "outputs": [
        {
          "output_type": "stream",
          "name": "stdout",
          "text": [
            "without order:  ygoahisptelun\n",
            "the order: python isealgu\n"
          ]
        }
      ]
    },
    {
      "cell_type": "code",
      "source": [
        "#remove duplicates using regax\n",
        "import re\n",
        "def removeduplicatewords(input):\n",
        "  regex=r'\\b(\\w+)(?:\\W+\\1\\b)+'\n",
        "  return re.sub(regex,r'\\1',input,flags=re.IGNORECASE)\n",
        "str1=\"good bye bye world world\"\n",
        "print(removeduplicatewords(str1))"
      ],
      "metadata": {
        "colab": {
          "base_uri": "https://localhost:8080/"
        },
        "id": "B7wrg5dIHxpr",
        "outputId": "c2eb5c60-862f-429b-8d7c-bbc569b8ee49"
      },
      "execution_count": 12,
      "outputs": [
        {
          "output_type": "stream",
          "name": "stdout",
          "text": [
            "good bye world\n"
          ]
        }
      ]
    },
    {
      "cell_type": "code",
      "source": [
        "#function\n",
        "def prime(x,y):\n",
        "  prime_list=[]\n",
        "  for i in range(x,y):\n",
        "    if i==0 or i==1:\n",
        "      continue\n",
        "    else:\n",
        "      for j in range (2,int(i/2)+1):\n",
        "         if i%j==0:\n",
        "           break\n",
        "         else:\n",
        "           prime_list.append(i)\n",
        "  return prime_list\n",
        "#driver program\n",
        "starting_range =2\n",
        "ending_range =7\n",
        "lst= prime(starting_range,ending_range)\n",
        "if len(lst)==0:\n",
        "  print(\"no prime numberes\")\n",
        "else:\n",
        "  print(\"the prime no  are\",lst)\n"
      ],
      "metadata": {
        "colab": {
          "base_uri": "https://localhost:8080/"
        },
        "id": "QWlTvrHXJJ0h",
        "outputId": "342a0986-d7b6-4968-ee64-5871f4346988"
      },
      "execution_count": 16,
      "outputs": [
        {
          "output_type": "stream",
          "name": "stdout",
          "text": [
            "the prime no  are [5]\n"
          ]
        }
      ]
    },
    {
      "cell_type": "code",
      "source": [
        "def fib(n):\n",
        "  if n<0:\n",
        "    print(\"incorrect input\")\n",
        "  elif n==1:\n",
        "    return 0\n",
        "  elif n==2:\n",
        "    return 1\n",
        "  else:\n",
        "    return fib(n-1)+fib(n-2)\n",
        "print(fib(10))"
      ],
      "metadata": {
        "colab": {
          "base_uri": "https://localhost:8080/"
        },
        "id": "PTy_D38bMiIR",
        "outputId": "edd8d843-332e-4a8a-dd65-295cb07d3847"
      },
      "execution_count": 17,
      "outputs": [
        {
          "output_type": "stream",
          "name": "stdout",
          "text": [
            "34\n"
          ]
        }
      ]
    },
    {
      "cell_type": "code",
      "source": [
        "#cube of first n numbers\n",
        "def cubes(n):\n",
        "  x=0\n",
        "  for i in range (1,n+1):\n",
        "    x+=i*i*i\n",
        "  return x\n",
        "n = 5\n",
        "print(cubes(n))\n"
      ],
      "metadata": {
        "colab": {
          "base_uri": "https://localhost:8080/"
        },
        "id": "wEx1sE4eNbFc",
        "outputId": "d1ff6bfe-cb5d-49a1-c2bd-b54030f6db60"
      },
      "execution_count": 20,
      "outputs": [
        {
          "output_type": "stream",
          "name": "stdout",
          "text": [
            "225\n"
          ]
        }
      ]
    },
    {
      "cell_type": "code",
      "source": [
        "#2nd largest number\n",
        "list1=[10,20,30,4,45,45,99,99,40]\n",
        "list2=list(set(list1))\n",
        "list2.sort()\n",
        "print(\"second largest no:\" ,list2[-2])"
      ],
      "metadata": {
        "colab": {
          "base_uri": "https://localhost:8080/"
        },
        "id": "TZxAIiveOBph",
        "outputId": "e98c111d-09c3-4487-e539-883f0c0a2ca1"
      },
      "execution_count": 22,
      "outputs": [
        {
          "output_type": "stream",
          "name": "stdout",
          "text": [
            "second largest no: 45\n"
          ]
        }
      ]
    },
    {
      "cell_type": "code",
      "source": [
        "#monotonic\n",
        "def ismonotonic(A):\n",
        "  return (all(A[i] <= A[i + 1] for i in range(len(A) - 1)) or\n",
        "            all(A[i] >= A[i + 1] for i in range(len(A) - 1)))\n",
        "A=[6,5,4,4]\n",
        "print(ismonotonic(A))"
      ],
      "metadata": {
        "colab": {
          "base_uri": "https://localhost:8080/"
        },
        "id": "kyx3pw53PArE",
        "outputId": "234e5f30-ed57-4949-d734-ba0a60525bdf"
      },
      "execution_count": 23,
      "outputs": [
        {
          "output_type": "stream",
          "name": "stdout",
          "text": [
            "True\n"
          ]
        }
      ]
    },
    {
      "cell_type": "code",
      "source": [
        ""
      ],
      "metadata": {
        "id": "rywFR3yLRzJF"
      },
      "execution_count": null,
      "outputs": []
    }
  ]
}