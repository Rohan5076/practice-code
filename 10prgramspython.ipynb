{
  "nbformat": 4,
  "nbformat_minor": 0,
  "metadata": {
    "colab": {
      "name": "10prgramspython.ipynb",
      "provenance": [],
      "authorship_tag": "ABX9TyMwpwIUIHw3tMjD3SRh3s8t",
      "include_colab_link": true
    },
    "kernelspec": {
      "name": "python3",
      "display_name": "Python 3"
    },
    "language_info": {
      "name": "python"
    }
  },
  "cells": [
    {
      "cell_type": "markdown",
      "metadata": {
        "id": "view-in-github",
        "colab_type": "text"
      },
      "source": [
        "<a href=\"https://colab.research.google.com/github/Rohan5076/practice-code/blob/main/10prgramspython.ipynb\" target=\"_parent\"><img src=\"https://colab.research.google.com/assets/colab-badge.svg\" alt=\"Open In Colab\"/></a>"
      ]
    },
    {
      "cell_type": "code",
      "execution_count": null,
      "metadata": {
        "colab": {
          "base_uri": "https://localhost:8080/"
        },
        "id": "TUIC6KaoB86R",
        "outputId": "d58e42a9-b20b-4beb-de54-481b70642e21"
      },
      "outputs": [
        {
          "output_type": "stream",
          "name": "stdout",
          "text": [
            "    *     *     *     *     *     *     *     *     *     *     *     *     *     *     *  \n",
            "    *     *     *     *     *     *     *     *     *     *     *     *     *     *  \n",
            "    *     *     *     *     *     *     *     *     *     *     *     *     *  \n",
            "    *     *     *     *     *     *     *     *     *     *     *     *  \n",
            "    *     *     *     *     *     *     *     *     *     *     *  \n",
            "    *     *     *     *     *     *     *     *     *     *  \n",
            "    *     *     *     *     *     *     *     *     *  \n",
            "    *     *     *     *     *     *     *     *  \n",
            "    *     *     *     *     *     *     *  \n",
            "    *     *     *     *     *     *  \n",
            "    *     *     *     *     *  \n",
            "    *     *     *     *  \n",
            "    *     *     *  \n",
            "    *     *  \n",
            "    *  \n"
          ]
        }
      ],
      "source": [
        "n=15\n",
        "for i in range (n,0,-1):\n",
        "  print(* ' ' +i * ' * ')"
      ]
    },
    {
      "cell_type": "code",
      "source": [
        "n=15\n",
        "for i in range (n,0,-1):\n",
        "  print((n-1)* ' ' +i * ' * ')"
      ],
      "metadata": {
        "id": "TCBugtYjB478",
        "outputId": "453701a8-b072-4e70-f602-8790e93023f2",
        "colab": {
          "base_uri": "https://localhost:8080/",
          "height": 135
        }
      },
      "execution_count": 1,
      "outputs": [
        {
          "output_type": "error",
          "ename": "SyntaxError",
          "evalue": "ignored",
          "traceback": [
            "\u001b[0;36m  File \u001b[0;32m\"<ipython-input-1-fa2cdc8b706e>\"\u001b[0;36m, line \u001b[0;32m3\u001b[0m\n\u001b[0;31m    print(*(n-1) ' ' +i * ' * ')\u001b[0m\n\u001b[0m                 ^\u001b[0m\n\u001b[0;31mSyntaxError\u001b[0m\u001b[0;31m:\u001b[0m invalid syntax\n"
          ]
        }
      ]
    },
    {
      "cell_type": "code",
      "source": [
        "n=5\n",
        "for i in range (n,0,-1):\n",
        "  print((n-1)*' ' +i* ' * ')"
      ],
      "metadata": {
        "colab": {
          "base_uri": "https://localhost:8080/"
        },
        "id": "unZz1ncICmTx",
        "outputId": "375b7d8f-3006-4556-9752-9f2779564cb7"
      },
      "execution_count": null,
      "outputs": [
        {
          "output_type": "stream",
          "name": "stdout",
          "text": [
            "     *  *  *  *  * \n",
            "     *  *  *  * \n",
            "     *  *  * \n",
            "     *  * \n",
            "     * \n"
          ]
        }
      ]
    },
    {
      "cell_type": "code",
      "source": [
        "s= \"malayalam\"\n",
        "if s==s[::-1]:\n",
        "  print(\"yes\")\n",
        "else:\n",
        "  print(\"no\")"
      ],
      "metadata": {
        "colab": {
          "base_uri": "https://localhost:8080/"
        },
        "id": "ZQWIBswxGGpz",
        "outputId": "a8aed5a2-3b56-4d96-e155-2d58b5a7f7b1"
      },
      "execution_count": null,
      "outputs": [
        {
          "output_type": "stream",
          "name": "stdout",
          "text": [
            "yes\n"
          ]
        }
      ]
    },
    {
      "cell_type": "code",
      "source": [
        "def removeduplicates(str):\n",
        "  s=set(str)\n",
        "  s=\"\".join(s)\n",
        "  print(\"without order:\",s)\n",
        "  t=\"\"\n",
        "  for i in str:\n",
        "    if (i in t):\n",
        "      pass\n",
        "    else:\n",
        "      t=t+i\n",
        "  print(\"the order:\",t)\n",
        "str=\"python is easy language\"\n",
        "removeduplicates(str)"
      ],
      "metadata": {
        "colab": {
          "base_uri": "https://localhost:8080/"
        },
        "id": "V_ljeRB5GnQy",
        "outputId": "15cf192e-87e1-45cf-c9d5-b92675deb1e6"
      },
      "execution_count": null,
      "outputs": [
        {
          "output_type": "stream",
          "name": "stdout",
          "text": [
            "without order:  ygoahisptelun\n",
            "the order: python isealgu\n"
          ]
        }
      ]
    },
    {
      "cell_type": "code",
      "source": [
        "#remove duplicates using regax\n",
        "import re\n",
        "def removeduplicatewords(input):\n",
        "  regex=r'\\b(\\w+)(?:\\W+\\1\\b)+'\n",
        "  return re.sub(regex,r'\\1',input,flags=re.IGNORECASE)\n",
        "str1=\"good bye bye world world\"\n",
        "print(removeduplicatewords(str1))"
      ],
      "metadata": {
        "colab": {
          "base_uri": "https://localhost:8080/"
        },
        "id": "B7wrg5dIHxpr",
        "outputId": "c2eb5c60-862f-429b-8d7c-bbc569b8ee49"
      },
      "execution_count": null,
      "outputs": [
        {
          "output_type": "stream",
          "name": "stdout",
          "text": [
            "good bye world\n"
          ]
        }
      ]
    },
    {
      "cell_type": "code",
      "source": [
        "#function\n",
        "def prime(x,y):\n",
        "  prime_list=[]\n",
        "  for i in range(x,y):\n",
        "    if i==0 or i==1:\n",
        "      continue\n",
        "    else:\n",
        "      for j in range (2,int(i/2)+1):\n",
        "         if i%j==0:\n",
        "           break\n",
        "         else:\n",
        "           prime_list.append(i)\n",
        "  return prime_list\n",
        "#driver program\n",
        "starting_range =2\n",
        "ending_range =7\n",
        "lst= prime(starting_range,ending_range)\n",
        "if len(lst)==0:\n",
        "  print(\"no prime numberes\")\n",
        "else:\n",
        "  print(\"the prime no  are\",lst)\n"
      ],
      "metadata": {
        "colab": {
          "base_uri": "https://localhost:8080/"
        },
        "id": "QWlTvrHXJJ0h",
        "outputId": "342a0986-d7b6-4968-ee64-5871f4346988"
      },
      "execution_count": null,
      "outputs": [
        {
          "output_type": "stream",
          "name": "stdout",
          "text": [
            "the prime no  are [5]\n"
          ]
        }
      ]
    },
    {
      "cell_type": "code",
      "source": [
        "def fib(n):\n",
        "  if n<0:\n",
        "    print(\"incorrect input\")\n",
        "  elif n==1:\n",
        "    return 0\n",
        "  elif n==2:\n",
        "    return 1\n",
        "  else:\n",
        "    return fib(n-1)+fib(n-2)\n",
        "print(fib(10))"
      ],
      "metadata": {
        "colab": {
          "base_uri": "https://localhost:8080/"
        },
        "id": "PTy_D38bMiIR",
        "outputId": "edd8d843-332e-4a8a-dd65-295cb07d3847"
      },
      "execution_count": null,
      "outputs": [
        {
          "output_type": "stream",
          "name": "stdout",
          "text": [
            "34\n"
          ]
        }
      ]
    },
    {
      "cell_type": "code",
      "source": [
        "#cube of first n numbers\n",
        "def cubes(n):\n",
        "  x=0\n",
        "  for i in range (1,n+1):\n",
        "    x+=i*i*i\n",
        "  return x\n",
        "n = 5\n",
        "print(cubes(n))\n"
      ],
      "metadata": {
        "colab": {
          "base_uri": "https://localhost:8080/"
        },
        "id": "wEx1sE4eNbFc",
        "outputId": "d1ff6bfe-cb5d-49a1-c2bd-b54030f6db60"
      },
      "execution_count": null,
      "outputs": [
        {
          "output_type": "stream",
          "name": "stdout",
          "text": [
            "225\n"
          ]
        }
      ]
    },
    {
      "cell_type": "code",
      "source": [
        "#2nd largest number\n",
        "list1=[10,20,30,4,45,45,99,99,40]\n",
        "list2=list(set(list1))\n",
        "list2.sort()\n",
        "print(\"second largest no:\" ,list2[-2])"
      ],
      "metadata": {
        "colab": {
          "base_uri": "https://localhost:8080/"
        },
        "id": "TZxAIiveOBph",
        "outputId": "e98c111d-09c3-4487-e539-883f0c0a2ca1"
      },
      "execution_count": null,
      "outputs": [
        {
          "output_type": "stream",
          "name": "stdout",
          "text": [
            "second largest no: 45\n"
          ]
        }
      ]
    },
    {
      "cell_type": "code",
      "source": [
        "#monotonic\n",
        "def ismonotonic(A):\n",
        "  return (all(A[i] <= A[i + 1] for i in range(len(A) - 1)) or\n",
        "            all(A[i] >= A[i + 1] for i in range(len(A) - 1)))\n",
        "A=[6,5,4,4]\n",
        "print(ismonotonic(A))"
      ],
      "metadata": {
        "colab": {
          "base_uri": "https://localhost:8080/"
        },
        "id": "kyx3pw53PArE",
        "outputId": "234e5f30-ed57-4949-d734-ba0a60525bdf"
      },
      "execution_count": null,
      "outputs": [
        {
          "output_type": "stream",
          "name": "stdout",
          "text": [
            "True\n"
          ]
        }
      ]
    },
    {
      "cell_type": "code",
      "source": [
        "#ISMONOTONIC \n",
        "def ismonotonic(A):\n",
        "  return (all(A[i]<=A[i+1] for i in range (len(A)-1)) or all(A[i]>=A[i+1] for i in range (len(A)-1)))\n",
        "A=[6,5,4,6]\n",
        "print(ismonotonic(A))\n"
      ],
      "metadata": {
        "id": "rywFR3yLRzJF",
        "colab": {
          "base_uri": "https://localhost:8080/"
        },
        "outputId": "9a859859-c9bc-4633-eab6-ebb8f9c7df1e"
      },
      "execution_count": null,
      "outputs": [
        {
          "output_type": "stream",
          "name": "stdout",
          "text": [
            "False\n"
          ]
        }
      ]
    },
    {
      "cell_type": "code",
      "source": [
        "def ismonotonic1(A):\n",
        "  return (all(A[i]<=A[i+1] for i in range (len(A)-1)) \n",
        "  or\n",
        "   all(A[i]>=A[i+1] for i in range(len(A)-1)))\n",
        "A=[11,10,9,8]\n",
        "print(ismonotonic1(A))"
      ],
      "metadata": {
        "colab": {
          "base_uri": "https://localhost:8080/"
        },
        "id": "AWte7DTO4h0s",
        "outputId": "a26c6cea-567d-4e78-c883-3537b6cd130a"
      },
      "execution_count": null,
      "outputs": [
        {
          "output_type": "stream",
          "name": "stdout",
          "text": [
            "True\n"
          ]
        }
      ]
    },
    {
      "cell_type": "code",
      "source": [
        "#program for second largest no\n",
        "list1=[10,20,30,40,5,45,99,98,99]\n",
        "list2=list(set(list1))\n",
        "list2.sort()\n",
        "print(\"second largest no: \",list2[-2])"
      ],
      "metadata": {
        "colab": {
          "base_uri": "https://localhost:8080/"
        },
        "id": "HdwmaNdr5zKk",
        "outputId": "eb01680d-d148-4810-e7c2-8cbcc8a6ad1a"
      },
      "execution_count": null,
      "outputs": [
        {
          "output_type": "stream",
          "name": "stdout",
          "text": [
            "second largest no:  98\n"
          ]
        }
      ]
    },
    {
      "cell_type": "code",
      "source": [
        "list1=[2,5,4,6,7,9,9]\n",
        "list2=list(set(list1))\n",
        "list2.sort()\n",
        "print(\"second largest no: \",list2[-2])"
      ],
      "metadata": {
        "colab": {
          "base_uri": "https://localhost:8080/"
        },
        "id": "96i1AWoo6YrW",
        "outputId": "5efc30ec-d54e-45c1-a389-ff1673b1f6c5"
      },
      "execution_count": null,
      "outputs": [
        {
          "output_type": "stream",
          "name": "stdout",
          "text": [
            "second largest no:  7\n"
          ]
        }
      ]
    },
    {
      "cell_type": "code",
      "source": [
        "def fib(n):\n",
        "  if n<0:\n",
        "    print(\"incorrect input\")\n",
        "  elif n==1:\n",
        "    return 0\n",
        "  elif n==2:\n",
        "    return 1\n",
        "  else:\n",
        "    return fib(n-1) +fib(n-2)\n",
        "print(fib(10))"
      ],
      "metadata": {
        "colab": {
          "base_uri": "https://localhost:8080/"
        },
        "id": "uGLOMZL06vku",
        "outputId": "0a7a5597-ac7d-4255-b48b-b0867bb5f2b7"
      },
      "execution_count": null,
      "outputs": [
        {
          "output_type": "stream",
          "name": "stdout",
          "text": [
            "34\n"
          ]
        }
      ]
    },
    {
      "cell_type": "code",
      "source": [
        "def fib(n):\n",
        "  if n<0:\n",
        "    print('incorect input')\n",
        "  elif n==1:\n",
        "    return 0\n",
        "  elif n==2:\n",
        "    return 1\n",
        "  else:\n",
        "    return fib(n-1)+fib(n-2)\n",
        "print(fib(9))"
      ],
      "metadata": {
        "colab": {
          "base_uri": "https://localhost:8080/"
        },
        "id": "073BGnFx7PLh",
        "outputId": "3ff2e3ac-ae65-4566-f45b-fe488b469f19"
      },
      "execution_count": null,
      "outputs": [
        {
          "output_type": "stream",
          "name": "stdout",
          "text": [
            "21\n"
          ]
        }
      ]
    },
    {
      "cell_type": "code",
      "source": [
        "n=int(input(\"enter no\"))\n",
        "if n<0:\n",
        "  print(\"incorrect input\")\n",
        "elif n==1:\n",
        "  print(\"0\")\n",
        "elif n==2:\n",
        "  print(\"1\")\n",
        "else:"
      ],
      "metadata": {
        "id": "lAKzCOWBCUsE"
      },
      "execution_count": null,
      "outputs": []
    },
    {
      "cell_type": "code",
      "source": [
        "# cube of first n numbers\n",
        "def cubes1(n):\n",
        "  x=0\n",
        "  for i in range (1,n+1):\n",
        "    x+=i*i*i\n",
        "  return x\n",
        "n=10\n",
        "print(cubes1(n))"
      ],
      "metadata": {
        "colab": {
          "base_uri": "https://localhost:8080/"
        },
        "id": "mxpaKKWn73IZ",
        "outputId": "00197ef0-5e55-4bc5-c595-1601b5d67cf2"
      },
      "execution_count": null,
      "outputs": [
        {
          "output_type": "stream",
          "name": "stdout",
          "text": [
            "3025\n"
          ]
        }
      ]
    },
    {
      "cell_type": "code",
      "source": [
        "# cube of first n numbers\n",
        "def cubes2(n):\n",
        "  x=0\n",
        "  for i in range(1,n+1):\n",
        "    x=i*i*i\n",
        "  return x\n",
        "n=6\n",
        "print(cubes2(n))"
      ],
      "metadata": {
        "colab": {
          "base_uri": "https://localhost:8080/"
        },
        "id": "RXvV6Nvp8lgz",
        "outputId": "7af34307-ab26-4d4e-e92b-355768aa689c"
      },
      "execution_count": null,
      "outputs": [
        {
          "output_type": "stream",
          "name": "stdout",
          "text": [
            "216\n"
          ]
        }
      ]
    },
    {
      "cell_type": "code",
      "source": [
        "n1=int(input(\"enter no : \"))\n",
        "for i in range (1,n1+1):\n",
        "  n1=i*i*i\n",
        "print(n1)"
      ],
      "metadata": {
        "colab": {
          "base_uri": "https://localhost:8080/"
        },
        "id": "uL5Mml6_BH48",
        "outputId": "e34a37c8-dd45-46d5-d26c-b1dd392a3157"
      },
      "execution_count": null,
      "outputs": [
        {
          "output_type": "stream",
          "name": "stdout",
          "text": [
            "enter no : 6\n",
            "216\n"
          ]
        }
      ]
    },
    {
      "cell_type": "code",
      "source": [
        "s=input(\"enter word: \")\n",
        "if s==s[::-1]:\n",
        "  print(\"yes\")\n",
        "else:\n",
        "  print(\"no\")"
      ],
      "metadata": {
        "colab": {
          "base_uri": "https://localhost:8080/"
        },
        "id": "hZWeaP3L9Pu0",
        "outputId": "221857ea-425b-4c1b-fa74-9eaf9ed7344a"
      },
      "execution_count": null,
      "outputs": [
        {
          "output_type": "stream",
          "name": "stdout",
          "text": [
            "enter word: rotor\n",
            "yes\n"
          ]
        }
      ]
    },
    {
      "cell_type": "code",
      "source": [
        "s= input(\"enter word\")\n",
        "if s==s[::-1]:\n",
        "  print(\"yes\")\n",
        "else:\n",
        "  print(\"no\")"
      ],
      "metadata": {
        "colab": {
          "base_uri": "https://localhost:8080/"
        },
        "id": "4e1eZ0Ns9nzg",
        "outputId": "2ec9aead-441a-4fbf-e5aa-c66fc9632797"
      },
      "execution_count": null,
      "outputs": [
        {
          "output_type": "stream",
          "name": "stdout",
          "text": [
            "enter wordmotor\n",
            "no\n"
          ]
        }
      ]
    },
    {
      "cell_type": "code",
      "source": [
        "def removeduplicates(str):\n",
        "  s=set(str)\n",
        "  s=\" \".join(s)\n",
        "  print(\"without order: \",s)\n",
        "  t=\" \"\n",
        "  for i in str:\n",
        "    if (i in t):\n",
        "      pass\n",
        "    else:\n",
        "      t=t+i\n",
        "  print(\"with order: \",t)\n",
        "str=\"python is easy language\"\n",
        "removeduplicates(str)"
      ],
      "metadata": {
        "colab": {
          "base_uri": "https://localhost:8080/"
        },
        "id": "DLrULna7-DDl",
        "outputId": "f641264a-2ac4-47cc-8ab1-3e96ede824c4"
      },
      "execution_count": null,
      "outputs": [
        {
          "output_type": "stream",
          "name": "stdout",
          "text": [
            "without order:    l g u a t n p y h e i s o\n",
            "with order:   pythonisealgu\n"
          ]
        }
      ]
    },
    {
      "cell_type": "code",
      "source": [
        "s1=input(\"enter string\")\n",
        "s1=set(s1)\n",
        "s1=\" \".join(s1)\n",
        "print(\"sting without duplicates :\",s1)"
      ],
      "metadata": {
        "colab": {
          "base_uri": "https://localhost:8080/"
        },
        "id": "I9nv1x79_KjS",
        "outputId": "5377a88a-8b79-4483-a260-ba0a5f51e716"
      },
      "execution_count": null,
      "outputs": [
        {
          "output_type": "stream",
          "name": "stdout",
          "text": [
            "enter stringasdfgsdfadfa\n",
            "sting without duplicates : g a f d s\n"
          ]
        }
      ]
    },
    {
      "cell_type": "code",
      "source": [
        "s1= input(\"enter string\")\n",
        "s1=set(s1)\n",
        "s1=\"\".join(s1)\n",
        "print(\"string\",s1)"
      ],
      "metadata": {
        "colab": {
          "base_uri": "https://localhost:8080/"
        },
        "id": "cn1SCV9M_xa9",
        "outputId": "90bac388-e519-4385-a055-942917b01bb1"
      },
      "execution_count": null,
      "outputs": [
        {
          "output_type": "stream",
          "name": "stdout",
          "text": [
            "enter stringadfghjkllkjhggffdashjkl;\n",
            "string lgakhf;dsj\n"
          ]
        }
      ]
    },
    {
      "cell_type": "code",
      "source": [
        "#pallindrome\n",
        "s1=input(\"enter the string : \")\n",
        "s1=set(s1)\n",
        "s1=\" \".join(s1)\n",
        "print(\"string without duplicates: \",s1)"
      ],
      "metadata": {
        "id": "6opmidIzADTp",
        "colab": {
          "base_uri": "https://localhost:8080/"
        },
        "outputId": "7d1fe55d-4ff5-425f-e4f6-d6c3251402bc"
      },
      "execution_count": null,
      "outputs": [
        {
          "output_type": "stream",
          "name": "stdout",
          "text": [
            "enter the string : xcvbvcxxcvbx\n",
            "string without duplicates:  c b x v\n"
          ]
        }
      ]
    },
    {
      "cell_type": "code",
      "source": [
        "#pallindrome\n",
        "s1= input(\"enter word\")\n",
        "if s1 == s1[::-1]:\n",
        "  print(\"string is pallindrome\")\n",
        "else:\n",
        "  print(\"string is not pallindrome\")"
      ],
      "metadata": {
        "colab": {
          "base_uri": "https://localhost:8080/"
        },
        "id": "qfeiplWhkUjz",
        "outputId": "36e2ccb8-f848-4f3e-a557-ae280c1b69cd"
      },
      "execution_count": null,
      "outputs": [
        {
          "output_type": "stream",
          "name": "stdout",
          "text": [
            "enter wordrotor\n",
            "string is pallindrome\n"
          ]
        }
      ]
    },
    {
      "cell_type": "code",
      "source": [
        "#cubes\n",
        "n1=int(input(\"enter the number : \"))\n",
        "for i in range(1,n1+1):\n",
        "  n1=i*i*i\n",
        "print(\"the cube is :\",n1)"
      ],
      "metadata": {
        "colab": {
          "base_uri": "https://localhost:8080/"
        },
        "id": "l-O6BzKSlZXO",
        "outputId": "9da54aac-f049-4e17-a72c-37ad84e18a18"
      },
      "execution_count": null,
      "outputs": [
        {
          "output_type": "stream",
          "name": "stdout",
          "text": [
            "enter the number : 6\n",
            "the cube is : 216\n"
          ]
        }
      ]
    },
    {
      "cell_type": "code",
      "source": [
        "#fibonacci\n",
        "def fib(n):\n",
        "  if n==0:\n",
        "    print(\"incorrect input\")\n",
        "  elif n==1:\n",
        "    return 0\n",
        "  elif n==2:\n",
        "    return 1\n",
        "  else:\n",
        "    return fib(n-1) + fib(n-2)\n",
        "fib(9)"
      ],
      "metadata": {
        "colab": {
          "base_uri": "https://localhost:8080/"
        },
        "id": "1eORu2lyl6E5",
        "outputId": "cbf06d0a-2c09-4339-f1ce-75b4fa3eb58f"
      },
      "execution_count": null,
      "outputs": [
        {
          "output_type": "execute_result",
          "data": {
            "text/plain": [
              "21"
            ]
          },
          "metadata": {},
          "execution_count": 10
        }
      ]
    },
    {
      "cell_type": "code",
      "source": [
        "#second largest number\n",
        "list1=[5,6,7,9,10]\n",
        "list2=list(set(list1))\n",
        "list2.sort()\n",
        "print(\"second lagest number\",list2[-2])"
      ],
      "metadata": {
        "colab": {
          "base_uri": "https://localhost:8080/"
        },
        "id": "7r_hYFbHmute",
        "outputId": "349f3f5f-878f-4b20-f8af-f50aaacba4ec"
      },
      "execution_count": null,
      "outputs": [
        {
          "output_type": "stream",
          "name": "stdout",
          "text": [
            "second lagest number 9\n"
          ]
        }
      ]
    },
    {
      "cell_type": "code",
      "source": [
        "n=15\n",
        "for i in range (0,n,1):\n",
        "  print(* ' ' +i * ' * ')"
      ],
      "metadata": {
        "id": "0YTtfZvlniz1",
        "outputId": "35b52d8a-cb15-479c-9c24-06d4b5d49d63",
        "colab": {
          "base_uri": "https://localhost:8080/"
        }
      },
      "execution_count": null,
      "outputs": [
        {
          "output_type": "stream",
          "name": "stdout",
          "text": [
            " \n",
            "    *  \n",
            "    *     *  \n",
            "    *     *     *  \n",
            "    *     *     *     *  \n",
            "    *     *     *     *     *  \n",
            "    *     *     *     *     *     *  \n",
            "    *     *     *     *     *     *     *  \n",
            "    *     *     *     *     *     *     *     *  \n",
            "    *     *     *     *     *     *     *     *     *  \n",
            "    *     *     *     *     *     *     *     *     *     *  \n",
            "    *     *     *     *     *     *     *     *     *     *     *  \n",
            "    *     *     *     *     *     *     *     *     *     *     *     *  \n",
            "    *     *     *     *     *     *     *     *     *     *     *     *     *  \n",
            "    *     *     *     *     *     *     *     *     *     *     *     *     *     *  \n"
          ]
        }
      ]
    },
    {
      "cell_type": "code",
      "source": [],
      "metadata": {
        "id": "pvicL3JkS4Vh"
      },
      "execution_count": null,
      "outputs": []
    }
  ]
}