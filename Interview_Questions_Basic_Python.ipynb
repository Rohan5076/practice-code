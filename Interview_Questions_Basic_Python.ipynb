{
  "nbformat": 4,
  "nbformat_minor": 0,
  "metadata": {
    "colab": {
      "name": " Interview_Questions : Basic_Python.ipynb",
      "provenance": [],
      "collapsed_sections": [
        "YvRb8eN8H2PH",
        "zrMvbzGjKTzO",
        "MWbok1hUKqbc",
        "laoP6ZXuUQzH"
      ],
      "include_colab_link": true
    },
    "kernelspec": {
      "name": "python3",
      "display_name": "Python 3"
    },
    "language_info": {
      "name": "python"
    }
  },
  "cells": [
    {
      "cell_type": "markdown",
      "metadata": {
        "id": "view-in-github",
        "colab_type": "text"
      },
      "source": [
        "<a href=\"https://colab.research.google.com/github/Rohan5076/practice-code/blob/main/Interview_Questions_Basic_Python.ipynb\" target=\"_parent\"><img src=\"https://colab.research.google.com/assets/colab-badge.svg\" alt=\"Open In Colab\"/></a>"
      ]
    },
    {
      "cell_type": "markdown",
      "source": [
        "# **Interview Questions : Basic Python**"
      ],
      "metadata": {
        "id": "G-ChdzSLJwOZ"
      }
    },
    {
      "cell_type": "markdown",
      "source": [
        "## Q1. Python program to check if a string is palindrome or not"
      ],
      "metadata": {
        "id": "IzXzx0ulKZFl"
      }
    },
    {
      "cell_type": "markdown",
      "source": [
        "Given a string, write a python function to check if it is palindrome or not. A string is said to be palindrome if the reverse of the string is the same as string. For example, “radar” is a palindrome, but “radix” is not a palindrome."
      ],
      "metadata": {
        "id": "2xXVGhfyKoeH"
      }
    },
    {
      "cell_type": "markdown",
      "source": [
        "Method #1 \n",
        "\n",
        "1. Find reverse of string\n",
        "2. Check if reverse and original are same or not."
      ],
      "metadata": {
        "id": "Dmvb5zgMK9oP"
      }
    },
    {
      "cell_type": "code",
      "source": [
        "# function which return reverse of a string\n",
        " \n",
        "def isPalindrome(s):\n",
        "    return s == s[::-1]\n",
        " \n",
        " \n",
        "# Driver code\n",
        "s = \"malayalam\"\n",
        "ans = isPalindrome(s)\n",
        " \n",
        "if ans:\n",
        "    print(\"Yes\")\n",
        "else:\n",
        "    print(\"No\")"
      ],
      "metadata": {
        "colab": {
          "base_uri": "https://localhost:8080/"
        },
        "id": "iyKnhl_FKL6u",
        "outputId": "558ed9ff-fc16-49ab-b701-caf72139f475"
      },
      "execution_count": null,
      "outputs": [
        {
          "output_type": "stream",
          "name": "stdout",
          "text": [
            "Yes\n"
          ]
        }
      ]
    },
    {
      "cell_type": "code",
      "source": [
        "def isPalindrome(p):\n",
        "  return p == p[::-1]\n",
        "\n",
        "\n",
        "p = 'Python Is Easy'\n",
        "ans = isPalindrome(p)\n",
        "\n",
        "if ans :\n",
        "  print('YES')\n",
        "else:\n",
        "  print(\"NO\")  \n",
        "\n"
      ],
      "metadata": {
        "colab": {
          "base_uri": "https://localhost:8080/"
        },
        "id": "CJfWUMs3LIiX",
        "outputId": "b2f9a8a5-d417-43af-f5a0-fd7696131ed9"
      },
      "execution_count": null,
      "outputs": [
        {
          "output_type": "stream",
          "name": "stdout",
          "text": [
            "NO\n"
          ]
        }
      ]
    },
    {
      "cell_type": "markdown",
      "source": [
        "## Iterative Method: Run a loop from starting to length/2 and check the first character to the last character of the string and second to second last one and so on …. If any character mismatches, the string wouldn’t be a palindrome."
      ],
      "metadata": {
        "id": "WAWysryYQk-7"
      }
    },
    {
      "cell_type": "code",
      "source": [
        "  \n",
        "# function to check string is\n",
        "# palindrome or not\n",
        "def isPalindrome(str):\n",
        " \n",
        "    # Run loop from 0 to len/2\n",
        "    for i in range(0, int(len(str)/2)):\n",
        "        if str[i] != str[len(str)-i-1]:\n",
        "            return False\n",
        "    return True\n",
        " \n",
        "# main function\n",
        "s = \"malayalam\"\n",
        "ans = isPalindrome(s)\n",
        " \n",
        "if (ans):\n",
        "    print(\"Yes\")\n",
        "else:\n",
        "    print(\"No\")"
      ],
      "metadata": {
        "colab": {
          "base_uri": "https://localhost:8080/"
        },
        "id": "0GSNGofyMD9K",
        "outputId": "d5b712bf-cfe6-4b7c-df73-c0ea92535b24"
      },
      "execution_count": null,
      "outputs": [
        {
          "output_type": "stream",
          "name": "stdout",
          "text": [
            "Yes\n"
          ]
        }
      ]
    },
    {
      "cell_type": "code",
      "source": [
        "def isPalindrome(str):\n",
        "  for i in range(0,int(len(str)/2)):\n",
        "    if str[i] != str [len(str)-i-1]:\n",
        "      return False\n",
        "  return True\n",
        "\n",
        "\n",
        "s = \"Mumbai\"\n",
        "\n",
        "ans = isPalindrome(s)\n",
        "\n",
        "if (ans):\n",
        "  print(\"YES\")\n",
        "else:\n",
        "  print(\"NO\")  "
      ],
      "metadata": {
        "colab": {
          "base_uri": "https://localhost:8080/"
        },
        "id": "d0UZva6bRC3d",
        "outputId": "2733219e-27ea-4e08-e435-0f27109e7806"
      },
      "execution_count": null,
      "outputs": [
        {
          "output_type": "stream",
          "name": "stdout",
          "text": [
            "NO\n"
          ]
        }
      ]
    },
    {
      "cell_type": "markdown",
      "source": [
        "## Method using the inbuilt function to reverse a string: In this method, predefined function ‘ ‘.join(reversed(string)) is used to reverse string."
      ],
      "metadata": {
        "id": "2pA4enuMScFX"
      }
    },
    {
      "cell_type": "code",
      "source": [
        "# function to check string is\n",
        "# palindrome or not\n",
        "def isPalindrome(s):\n",
        " \n",
        "    # Using predefined function to\n",
        "    # reverse to string print(s)\n",
        "    rev = ''.join(reversed(s))\n",
        " \n",
        "    # Checking if both string are\n",
        "    # equal or not\n",
        "    if (s == rev):\n",
        "        return True\n",
        "    return False\n",
        " \n",
        "# main function\n",
        "s = \"malayalam\"\n",
        "ans = isPalindrome(s)\n",
        " \n",
        "if (ans):\n",
        "    print(\"Yes\")\n",
        "else:\n",
        "    print(\"No\")"
      ],
      "metadata": {
        "colab": {
          "base_uri": "https://localhost:8080/"
        },
        "id": "8IO70Im1SBZo",
        "outputId": "9327fbf8-8790-4551-b168-87cd46dbd620"
      },
      "execution_count": null,
      "outputs": [
        {
          "output_type": "stream",
          "name": "stdout",
          "text": [
            "Yes\n"
          ]
        }
      ]
    },
    {
      "cell_type": "code",
      "source": [
        "def isPalindrome(s):\n",
        "  rev = ''.join(reversed(s))\n",
        "\n",
        "  if (s == rev) :\n",
        "    return True \n",
        "  else:\n",
        "    return False\n",
        "\n",
        "s = \"asdfasdf\"\n",
        "a =isPalindrome(s) \n",
        "\n",
        "if a :\n",
        "  print(\"yes\")\n",
        "else :\n",
        "  print('no')  "
      ],
      "metadata": {
        "colab": {
          "base_uri": "https://localhost:8080/"
        },
        "id": "H5ybMxF-S4EF",
        "outputId": "486e8e0a-00a2-47d7-acf8-d70481769e94"
      },
      "execution_count": null,
      "outputs": [
        {
          "output_type": "stream",
          "name": "stdout",
          "text": [
            "no\n"
          ]
        }
      ]
    },
    {
      "cell_type": "markdown",
      "source": [
        "## Method using one extra variable: In this method, the user takes a character of string one by one and store it in an empty variable. After storing all the characters user will compare both the string and check whether it is palindrome or not. "
      ],
      "metadata": {
        "id": "OKBZ01garIOF"
      }
    },
    {
      "cell_type": "code",
      "source": [
        "# Python program to check\n",
        "# if a string is palindrome\n",
        "# or not\n",
        " \n",
        "x = \"malayalam\"\n",
        " \n",
        "w = \"\"\n",
        "for i in x:\n",
        "    w = i + w\n",
        " \n",
        "if (x == w):\n",
        "    print(\"Yes\")\n",
        "else:\n",
        "    print(\"No\")"
      ],
      "metadata": {
        "colab": {
          "base_uri": "https://localhost:8080/"
        },
        "id": "Ee-FOYQ2lNAC",
        "outputId": "de68ed67-a192-420e-9ef8-374056932e93"
      },
      "execution_count": null,
      "outputs": [
        {
          "output_type": "stream",
          "name": "stdout",
          "text": [
            "Yes\n"
          ]
        }
      ]
    },
    {
      "cell_type": "markdown",
      "source": [
        "\n",
        "## Method using flag: In this method, the user compares each character from starting and ending in a for loop and if the character does not match then it will change the status of the flag. Then it will check the status of the flag and accordingly and print whether it is a palindrome or not. "
      ],
      "metadata": {
        "id": "sMncSmzltcKr"
      }
    },
    {
      "cell_type": "code",
      "source": [
        "# Python program to check\n",
        "# if a string is palindrome\n",
        "# or not\n",
        "st = 'malayalam'\n",
        "j = -1\n",
        "flag = 0\n",
        "for i in st:\n",
        "    if i != st[j]:\n",
        "        flag = 1\n",
        "        break\n",
        "    j = j - 1\n",
        "if flag == 1:\n",
        "    print(\"NO\")\n",
        "else:\n",
        "    print(\"Yes\")"
      ],
      "metadata": {
        "colab": {
          "base_uri": "https://localhost:8080/"
        },
        "id": "eoiPXzDZsMBp",
        "outputId": "ce39d0e3-2597-4b10-e4b3-5bc0080ed894"
      },
      "execution_count": null,
      "outputs": [
        {
          "output_type": "stream",
          "name": "stdout",
          "text": [
            "Yes\n"
          ]
        }
      ]
    },
    {
      "cell_type": "markdown",
      "source": [
        "## Method using recursion: \n",
        "\n",
        "This method compares the first and the last element of the string and gives the rest of the substring to a recursive call to itself. "
      ],
      "metadata": {
        "id": "YvRb8eN8H2PH"
      }
    },
    {
      "cell_type": "code",
      "source": [
        "# Recursive function to check if a\n",
        "# string is palindrome\n",
        "def isPalindrome(s):\n",
        " \n",
        "    # to change it the string is similar case\n",
        "    s = s.lower()\n",
        "    # length of s\n",
        "    l = len(s)\n",
        " \n",
        "    # if length is less than 2\n",
        "    if l < 2:\n",
        "        return True\n",
        " \n",
        "    # If s[0] and s[l-1] are equal\n",
        "    elif s[0] == s[l - 1]:\n",
        " \n",
        "        # Call is palindrome form substring(1,l-1)\n",
        "        return isPalindrome(s[1: l - 1])\n",
        " \n",
        "    else:\n",
        "        return False\n",
        " \n",
        "# Driver Code\n",
        "s = \"MalaYaLam\"\n",
        "ans = isPalindrome(s)\n",
        " \n",
        "if ans:\n",
        "    print(\"Yes\")\n",
        " \n",
        "else:\n",
        "    print(\"No\")"
      ],
      "metadata": {
        "colab": {
          "base_uri": "https://localhost:8080/"
        },
        "id": "JFhXSdlRtwLZ",
        "outputId": "eb4eca99-f4c5-42cc-d3f3-3b4a6a2f5f2f"
      },
      "execution_count": null,
      "outputs": [
        {
          "output_type": "stream",
          "name": "stdout",
          "text": [
            "Yes\n"
          ]
        }
      ]
    },
    {
      "cell_type": "markdown",
      "source": [
        "# **Q2.Remove all duplicates from a given string in Python**"
      ],
      "metadata": {
        "id": "7ENwHl8hIhKB"
      }
    },
    {
      "cell_type": "code",
      "source": [
        "from collections import OrderedDict\n",
        " \n",
        "# Function to remove all duplicates from string\n",
        "# and order does not matter\n",
        "def removeDupWithoutOrder(str):\n",
        " \n",
        "    # set() --> A Set is an unordered collection\n",
        "    #         data type that is iterable, mutable,\n",
        "    #         and has no duplicate elements.\n",
        "    # \"\".join() --> It joins two adjacent elements in\n",
        "    #             iterable with any symbol defined in\n",
        "    #             \"\" ( double quotes ) and returns a\n",
        "    #             single string\n",
        "    return \"\".join(set(str))\n",
        " \n",
        "# Function to remove all duplicates from string\n",
        "# and keep the order of characters same\n",
        "def removeDupWithOrder(str):\n",
        "    return \"\".join(OrderedDict.fromkeys(str))\n",
        " \n",
        "# Driver program\n",
        "if __name__ == \"__main__\":\n",
        "    str = \"python is easy language\"\n",
        "    print (\"Without Order = \",removeDupWithoutOrder(str))\n",
        "    print (\"With Order = \",removeDupWithOrder(str))"
      ],
      "metadata": {
        "colab": {
          "base_uri": "https://localhost:8080/"
        },
        "id": "pYaYvEFjIGbX",
        "outputId": "dd0ba72c-00ee-4e53-ad0b-84f6d9d963f5"
      },
      "execution_count": null,
      "outputs": [
        {
          "output_type": "stream",
          "name": "stdout",
          "text": [
            "Without Order =  tluhy gnsaoiep\n",
            "With Order =  python isealgu\n"
          ]
        }
      ]
    },
    {
      "cell_type": "code",
      "source": [
        "#Method 2\n",
        "\n",
        "def removeDuplicate(str):\n",
        "    s=set(str)\n",
        "    s=\"\".join(s)\n",
        "    print(\"Without Order:\",s)\n",
        "    t=\"\"\n",
        "    for i in str:\n",
        "        if(i in t):\n",
        "            pass\n",
        "        else:\n",
        "            t=t+i\n",
        "    print(\"With Order:\",t)\n",
        "     \n",
        "str=\"Python is easy language\"\n",
        "removeDuplicate(str)"
      ],
      "metadata": {
        "colab": {
          "base_uri": "https://localhost:8080/"
        },
        "id": "pM7KSOTFJDBR",
        "outputId": "e524c89f-a299-4d52-fe21-a24a9db87542"
      },
      "execution_count": null,
      "outputs": [
        {
          "output_type": "stream",
          "name": "stdout",
          "text": [
            "Without Order: tluhy gnsaoiPe\n",
            "With Order: Python isealgu\n"
          ]
        }
      ]
    },
    {
      "cell_type": "markdown",
      "source": [
        "## What do OrderedDict and fromkeys() do ?\n",
        "\n",
        "An OrderedDict is a dictionary that remembers the order of the keys that were inserted first. If a new entry overwrites an existing entry, the original insertion position is left unchanged."
      ],
      "metadata": {
        "id": "zrMvbzGjKTzO"
      }
    },
    {
      "cell_type": "code",
      "source": [
        "from collections import OrderedDict\n",
        " \n",
        "ordinary_dictionary = {}\n",
        "ordinary_dictionary['a'] = 1\n",
        "ordinary_dictionary['b'] = 2\n",
        "ordinary_dictionary['c'] = 3\n",
        "ordinary_dictionary['d'] = 4\n",
        "ordinary_dictionary['e'] = 5\n",
        " \n",
        "# Output = {'a': 1, 'c': 3, 'b': 2, 'e': 5, 'd': 4}\n",
        "print (ordinary_dictionary)    \n",
        " \n",
        "ordered_dictionary = OrderedDict()\n",
        "ordered_dictionary['a'] = 1\n",
        "ordered_dictionary['b'] = 2\n",
        "ordered_dictionary['c'] = 3\n",
        "ordered_dictionary['d'] = 4\n",
        "ordered_dictionary['e'] = 5\n",
        " \n",
        "# Output = {'a':1,'b':2,'c':3,'d':4,'e':5}\n",
        "print (ordered_dictionary) "
      ],
      "metadata": {
        "colab": {
          "base_uri": "https://localhost:8080/"
        },
        "id": "p1-asy09JuEZ",
        "outputId": "87ed0da3-ffd7-47bb-a69c-61e111e8b3d4"
      },
      "execution_count": null,
      "outputs": [
        {
          "output_type": "stream",
          "name": "stdout",
          "text": [
            "{'a': 1, 'b': 2, 'c': 3, 'd': 4, 'e': 5}\n",
            "OrderedDict([('a', 1), ('b', 2), ('c', 3), ('d', 4), ('e', 5)])\n"
          ]
        }
      ]
    },
    {
      "cell_type": "markdown",
      "source": [
        "## fromkeys() creates a new dictionary with keys from seq and values set to value and returns list of keys, fromkeys(seq[, value]) is the syntax for fromkeys() method. Parameters :\n",
        "\n",
        "* seq : This is the list of values which would be used for dictionary keys preparation.\n",
        "* value : This is optional, if provided then value would be set to this value."
      ],
      "metadata": {
        "id": "MWbok1hUKqbc"
      }
    },
    {
      "cell_type": "code",
      "source": [
        "from collections import OrderedDict\n",
        "seq = ('name', 'age', 'gender')\n",
        "dict = OrderedDict.fromkeys(seq)\n",
        " \n",
        "# Output = {'age': None, 'name': None, 'gender': None}\n",
        "print (str(dict))\n",
        "dict = OrderedDict.fromkeys(seq, 10)\n",
        " \n",
        "# Output = {'age': 10, 'name': 10, 'gender': 10}\n",
        "print (str(dict)) "
      ],
      "metadata": {
        "colab": {
          "base_uri": "https://localhost:8080/"
        },
        "id": "9bOcIzSEKche",
        "outputId": "cbcd57c3-c4d4-4103-b90d-60689d9d9a74"
      },
      "execution_count": null,
      "outputs": [
        {
          "output_type": "stream",
          "name": "stdout",
          "text": [
            "OrderedDict([('name', None), ('age', None), ('gender', None)])\n",
            "OrderedDict([('name', 10), ('age', 10), ('gender', 10)])\n"
          ]
        }
      ]
    },
    {
      "cell_type": "markdown",
      "source": [
        "# **Q3.Python Program for Bubble Sort**"
      ],
      "metadata": {
        "id": "qYLBMdDCTAKT"
      }
    },
    {
      "cell_type": "markdown",
      "source": [
        "## Bubble Sort is the simplest sorting algorithm that works by repeatedly swapping the adjacent elements if they are in the wrong order."
      ],
      "metadata": {
        "id": "laoP6ZXuUQzH"
      }
    },
    {
      "cell_type": "code",
      "source": [
        "# Python program for implementation of Bubble Sort\n",
        " \n",
        "def bubbleSort(arr):\n",
        "    n = len(arr)\n",
        "    # optimize code, so if the array is already sorted, it doesn't need\n",
        "    # to go through the entire process\n",
        "    swapped = False\n",
        "    # Traverse through all array elements\n",
        "    for i in range(n-1):\n",
        "        # range(n) also work but outer loop will\n",
        "        # repeat one time more than needed.\n",
        "        # Last i elements are already in place\n",
        "        for j in range(0, n-i-1):\n",
        " \n",
        "            # traverse the array from 0 to n-i-1\n",
        "            # Swap if the element found is greater\n",
        "            # than the next element\n",
        "            if arr[j] > arr[j + 1]:\n",
        "                swapped = True\n",
        "                arr[j], arr[j + 1] = arr[j + 1], arr[j]\n",
        "         \n",
        "        if not swapped:\n",
        "            # if we haven't needed to make a single swap, we\n",
        "            # can just exit the main loop.\n",
        "            return\n",
        " \n",
        " \n",
        "# Driver code to test above\n",
        "arr = [64, 34, 25, 12, 22, 11, 90]\n",
        " \n",
        "bubbleSort(arr)\n",
        " \n",
        "print(\"Sorted array is:\")\n",
        "for i in range(len(arr)):\n",
        "    print(\"% d\" % arr[i], end=\" \")"
      ],
      "metadata": {
        "id": "KoQVuxXMK1cd",
        "colab": {
          "base_uri": "https://localhost:8080/"
        },
        "outputId": "597c546c-c0a5-4369-9445-ed5efa579332"
      },
      "execution_count": null,
      "outputs": [
        {
          "output_type": "stream",
          "name": "stdout",
          "text": [
            "Sorted array is:\n",
            " 11  12  22  25  34  64  90 "
          ]
        }
      ]
    },
    {
      "cell_type": "code",
      "source": [
        "def bubbleSort(arr):\n",
        "  n = len(arr)\n",
        "  swapped = False\n",
        "  for i in range(0,n-1):\n",
        "    for j in range(0,n-i-1):\n",
        "      if arr[j]>arr[j+1]:\n",
        "        swapped = True\n",
        "        arr[j],arr[j+1]=arr[j+1],arr[j]\n",
        "    if not swapped :\n",
        "      return\n",
        "arr = [10,58,62,12,45,41,78,32,25]  \n",
        "bubbleSort(arr)\n",
        "print(arr)               "
      ],
      "metadata": {
        "colab": {
          "base_uri": "https://localhost:8080/"
        },
        "id": "baOM_80hUodB",
        "outputId": "d59fc031-e817-47a4-cee8-664808dc6b2d"
      },
      "execution_count": null,
      "outputs": [
        {
          "output_type": "stream",
          "name": "stdout",
          "text": [
            "[10, 12, 25, 32, 41, 45, 58, 62, 78]\n"
          ]
        }
      ]
    },
    {
      "cell_type": "markdown",
      "source": [
        "# **Q4.Print an Inverted Star Pattern**"
      ],
      "metadata": {
        "id": "rCnxM_BTMaqs"
      }
    },
    {
      "cell_type": "code",
      "source": [
        "\n",
        "# python 3 code to print inverted star\n",
        "# pattern \n",
        "  \n",
        "# n is the number of rows in which\n",
        "# star is going to be printed.\n",
        "n=11\n",
        "  \n",
        "# i is going to be enabled to\n",
        "# range between n-i t 0 with a\n",
        "# decrement of 1 with each iteration.\n",
        "# and in print function, for each iteration,\n",
        "# ” ” is multiplied with n-i and ‘*’ is\n",
        "# multiplied with i to create correct\n",
        "# space before of the stars.\n",
        "for i in range (n, 0, -1):\n",
        "    print( * ' ' + i * '*')"
      ],
      "metadata": {
        "id": "1vDb88KvXYK7",
        "colab": {
          "base_uri": "https://localhost:8080/"
        },
        "outputId": "82cd9f24-0057-4041-9fa1-b30cb9d417dc"
      },
      "execution_count": null,
      "outputs": [
        {
          "output_type": "stream",
          "name": "stdout",
          "text": [
            "  * * * * * * * * * * *\n",
            "  * * * * * * * * * *\n",
            "  * * * * * * * * *\n",
            "  * * * * * * * *\n",
            "  * * * * * * *\n",
            "  * * * * * *\n",
            "  * * * * *\n",
            "  * * * *\n",
            "  * * *\n",
            "  * *\n",
            "  *\n"
          ]
        }
      ]
    },
    {
      "cell_type": "code",
      "source": [
        "\n",
        "# python 3 code to print inverted star\n",
        "# pattern \n",
        "  \n",
        "# n is the number of rows in which\n",
        "# star is going to be printed.\n",
        "n=11\n",
        "  \n",
        "# i is going to be enabled to\n",
        "# range between n-i t 0 with a\n",
        "# decrement of 1 with each iteration.\n",
        "# and in print function, for each iteration,\n",
        "# ” ” is multiplied with n-i and ‘*’ is\n",
        "# multiplied with i to create correct\n",
        "# space before of the stars.\n",
        "for i in range (n, 0, -1):\n",
        "    print((n-i) * ' ' + i * '*')"
      ],
      "metadata": {
        "colab": {
          "base_uri": "https://localhost:8080/"
        },
        "id": "8yWr5UKhQ4cr",
        "outputId": "f22f448a-4f17-45fb-8a70-c8ec08c14c60"
      },
      "execution_count": null,
      "outputs": [
        {
          "output_type": "stream",
          "name": "stdout",
          "text": [
            "***********\n",
            " **********\n",
            "  *********\n",
            "   ********\n",
            "    *******\n",
            "     ******\n",
            "      *****\n",
            "       ****\n",
            "        ***\n",
            "         **\n",
            "          *\n"
          ]
        }
      ]
    },
    {
      "cell_type": "markdown",
      "source": [
        "# **Q.5 Remove duplicate words from Sentence using Regular Expression**"
      ],
      "metadata": {
        "id": "cSAnjq_vRrlj"
      }
    },
    {
      "cell_type": "markdown",
      "source": [
        "# **regex** = \"\\\\b(\\\\w+)(?:\\\\W+\\\\1\\\\b)+\";\n",
        "\n",
        "1. The details of the above regular expression can be understood as: \n",
        "“\\\\b”: A word boundary. Boundaries are needed for special cases. For example, in “My thesis is great”, “is” wont be matched twice.\n",
        "“\\\\w+” A word character: [a-zA-Z_0-9] \n",
        " \n",
        "* “\\\\W+”: A non-word character: [^\\w] \n",
        " \n",
        "* “\\\\1”: Matches whatever was matched in the 1st group of parentheses, which in this case is the (\\w+) \n",
        " \n",
        "* “+”: Match whatever it’s placed after 1 or more times \n",
        " \n",
        "2. Match the sentence with the Regex. In Java, this can be done using Pattern.matcher().\n",
        " \n",
        "3. return the modified sentence."
      ],
      "metadata": {
        "id": "Hayhi4k5gh5j"
      }
    },
    {
      "cell_type": "code",
      "source": [
        "\n",
        "# Python program to remove duplicate words\n",
        "# using Regular Expression or ReGex.\n",
        "import re\n",
        " \n",
        " \n",
        "# Function to validate the sentence\n",
        "# and remove the duplicate words\n",
        "def removeDuplicateWords(input):\n",
        " \n",
        "    # Regex to matching repeated words\n",
        "    regex = r'\\b(\\w+)(?:\\W+\\1\\b)+'\n",
        " \n",
        "    return re.sub(regex, r'\\1', input, flags=re.IGNORECASE)\n",
        " \n",
        " \n",
        "# Driver Code\n",
        " \n",
        "# Test Case: 1\n",
        "str1 = \"Good bye bye world world\"\n",
        "print(removeDuplicateWords(str1))\n",
        " \n",
        "# Test Case: 2\n",
        "str2 = \"Ram went went to to his home\"\n",
        "print(removeDuplicateWords(str2))\n",
        " \n",
        "# Test Case: 3\n",
        "str3 = \"Hello hello world world\"\n",
        "print(removeDuplicateWords(str3))"
      ],
      "metadata": {
        "colab": {
          "base_uri": "https://localhost:8080/"
        },
        "id": "sPCx96tJRGfX",
        "outputId": "054c85ea-ba9a-4ce8-cc98-f5cbecdc5943"
      },
      "execution_count": null,
      "outputs": [
        {
          "output_type": "stream",
          "name": "stdout",
          "text": [
            "Good bye world\n",
            "Ram went to his home\n",
            "Hello world\n"
          ]
        }
      ]
    },
    {
      "cell_type": "markdown",
      "source": [
        "# **Q6.Python program to print all Prime numbers in an Interval**\n",
        "\n",
        "Definition: A prime number is a natural number greater than 1 that has no positive divisors other than 1 and itself. The first few prime numbers are {2, 3, 5, 7, 11, ….}.\n",
        "\n",
        "The idea to solve this problem is to iterate the val from start to end using a for loop and for every number, if it is greater than 1, check if it divides n. If we find any other number which divides, print that value."
      ],
      "metadata": {
        "id": "xo4H2VmWhCuL"
      }
    },
    {
      "cell_type": "code",
      "source": [
        "\n",
        "# Python program to print all\n",
        "# prime number in an interval\n",
        " \n",
        "def prime(x, y):\n",
        "    prime_list = []\n",
        "    for i in range(x, y):\n",
        "        if i == 0 or i == 1:\n",
        "            continue\n",
        "        else:\n",
        "            for j in range(2, int(i/2)+1):\n",
        "                if i % j == 0:\n",
        "                    break\n",
        "            else:\n",
        "                prime_list.append(i)\n",
        "    return prime_list\n",
        " \n",
        "# Driver program\n",
        "starting_range = 2\n",
        "ending_range = 7\n",
        "lst = prime(starting_range, ending_range)\n",
        "if len(lst) == 0:\n",
        "    print(\"There are no prime numbers in this range\")\n",
        "else:\n",
        "    print(\"The prime numbers in this range are: \", lst)"
      ],
      "metadata": {
        "colab": {
          "base_uri": "https://localhost:8080/"
        },
        "id": "ueZSSsl4fG1K",
        "outputId": "d97637a7-4d16-40c8-b24f-1c52e8466211"
      },
      "execution_count": null,
      "outputs": [
        {
          "output_type": "stream",
          "name": "stdout",
          "text": [
            "The prime numbers in this range are:  [2, 3, 5]\n"
          ]
        }
      ]
    },
    {
      "cell_type": "markdown",
      "source": [
        "# **Q7. Python Program for n-th Fibonacci number**\n",
        "\n",
        "In mathematical terms, the sequence Fn of Fibonacci numbers is defined by the recurrence relation \n",
        "\n",
        "### **Fn = Fn-1 + Fn-2**\n",
        "\n",
        "### **With seed values**\n",
        "\n",
        "### **F0 = 0 and F1 = 1**"
      ],
      "metadata": {
        "id": "8y56SzAdKxXU"
      }
    },
    {
      "cell_type": "code",
      "source": [
        "#Method 1 ( Use recursion ) :\n",
        "\n",
        "\n",
        "# Function for nth Fibonacci number\n",
        " \n",
        "def Fibonacci(n):\n",
        "    if n<= 0:\n",
        "        print(\"Incorrect input\")\n",
        "    # First Fibonacci number is 0\n",
        "    elif n == 1:\n",
        "        return 0\n",
        "    # Second Fibonacci number is 1\n",
        "    elif n == 2:\n",
        "        return 1\n",
        "    else:\n",
        "        return Fibonacci(n-1)+Fibonacci(n-2)\n",
        " \n",
        "# Driver Program\n",
        " \n",
        "print(Fibonacci(10))"
      ],
      "metadata": {
        "id": "PtWru0xvhfeE",
        "colab": {
          "base_uri": "https://localhost:8080/"
        },
        "outputId": "1759067b-ec5f-469d-d934-3b24cac837f1"
      },
      "execution_count": null,
      "outputs": [
        {
          "output_type": "stream",
          "name": "stdout",
          "text": [
            "34\n"
          ]
        }
      ]
    },
    {
      "cell_type": "code",
      "source": [
        "def fib(n):\n",
        "  if n<0 :\n",
        "    print('Incorrect Input')\n",
        "  elif n ==1 :\n",
        "    return 0\n",
        "  elif n==2 :\n",
        "    return 1\n",
        "  else:\n",
        "    return Fibonacci(n-1)+Fibonacci(n-2)\n"
      ],
      "metadata": {
        "id": "1eycowFaLXYM"
      },
      "execution_count": null,
      "outputs": []
    },
    {
      "cell_type": "code",
      "source": [
        "print(fib(10))"
      ],
      "metadata": {
        "colab": {
          "base_uri": "https://localhost:8080/"
        },
        "id": "3n8WYyltL38l",
        "outputId": "8d3fe07d-8da3-4302-a024-97b366b07a10"
      },
      "execution_count": null,
      "outputs": [
        {
          "output_type": "stream",
          "name": "stdout",
          "text": [
            "34\n"
          ]
        }
      ]
    },
    {
      "cell_type": "code",
      "source": [
        "#Method 2 ( Use Dynamic Programming ) : \n",
        "\n",
        "\n",
        "# Function for nth fibonacci number - Dynamic Programming\n",
        "# Taking 1st two fibonacci numbers as 0 and 1\n",
        " \n",
        "FibArray = [0, 1]\n",
        " \n",
        "def fibonacci(n):\n",
        "    if n<0:\n",
        "        print(\"Incorrect input\")\n",
        "    elif n<= len(FibArray):\n",
        "        return FibArray[n-1]\n",
        "    else:\n",
        "        temp_fib = fibonacci(n-1)+fibonacci(n-2)\n",
        "        FibArray.append(temp_fib)\n",
        "        return temp_fib\n",
        " \n",
        "# Driver Program\n",
        " \n",
        "print(fibonacci(9))"
      ],
      "metadata": {
        "colab": {
          "base_uri": "https://localhost:8080/"
        },
        "id": "wPNP9MwuMlRN",
        "outputId": "c49a945f-9942-4962-d810-255b8005323f"
      },
      "execution_count": null,
      "outputs": [
        {
          "output_type": "stream",
          "name": "stdout",
          "text": [
            "21\n"
          ]
        }
      ]
    },
    {
      "cell_type": "code",
      "source": [
        "#Method 3 ( Use Dynamic Programming with Space Optimization) : \n",
        "\n",
        "\n",
        "# Function for nth fibonacci number - Space Optimisation\n",
        "# Taking 1st two fibonacci numbers as 0 and 1\n",
        " \n",
        "def fibonacci(n):\n",
        "    a = 0\n",
        "    b = 1\n",
        "    if n < 0:\n",
        "        print(\"Incorrect input\")\n",
        "    elif n == 0:\n",
        "        return a\n",
        "    elif n == 1:\n",
        "        return b\n",
        "    else:\n",
        "        for i in range(2, n):\n",
        "            c = a + b\n",
        "            a = b\n",
        "            b = c\n",
        "        return b\n",
        " \n",
        "# Driver Program\n",
        " \n",
        "print(fibonacci(9))"
      ],
      "metadata": {
        "colab": {
          "base_uri": "https://localhost:8080/"
        },
        "id": "AmG_iPPFPA6C",
        "outputId": "8f8ffce3-7206-4547-e9be-240a55992c29"
      },
      "execution_count": null,
      "outputs": [
        {
          "output_type": "stream",
          "name": "stdout",
          "text": [
            "21\n"
          ]
        }
      ]
    },
    {
      "cell_type": "code",
      "source": [
        "#Method 4 ( Using Arrays ) : \n",
        "\n",
        "\n",
        "# creating an array in the function to find the nth number in fibonacci series. [0, 1, 1, ...]\n",
        " \n",
        "def fibonacci (n):\n",
        "   if n<= 0:\n",
        "     return \"Incorrect Output\"\n",
        "   data = [0, 1]\n",
        "   if n == 1:\n",
        "     return 1\n",
        "   if n==2:\n",
        "     return 1  \n",
        "   if n > 2:\n",
        "        for i in range (2, n):\n",
        "            data.append(data[i-1] + data[i-2])\n",
        "        return data[n-1]\n",
        " \n",
        "# Driver Program\n",
        " \n",
        "print(fibonacci(9))"
      ],
      "metadata": {
        "colab": {
          "base_uri": "https://localhost:8080/"
        },
        "id": "jV0MyJevSuMS",
        "outputId": "d5ee00b9-2f72-40d1-d6c3-a0c358ce19e4"
      },
      "execution_count": null,
      "outputs": [
        {
          "output_type": "stream",
          "name": "stdout",
          "text": [
            "21\n"
          ]
        }
      ]
    },
    {
      "cell_type": "code",
      "source": [
        "print(fibonacci(2))"
      ],
      "metadata": {
        "colab": {
          "base_uri": "https://localhost:8080/"
        },
        "id": "n827OinYTEq3",
        "outputId": "16d13893-199d-4033-8fc8-36a339afd079"
      },
      "execution_count": null,
      "outputs": [
        {
          "output_type": "stream",
          "name": "stdout",
          "text": [
            "1\n"
          ]
        }
      ]
    },
    {
      "cell_type": "markdown",
      "source": [
        "# **Q8. Python Program for cube sum of first n natural numbers**\n",
        "\n",
        "Print the sum of series 13 + 23 + 33 + 43 + …….+ n3 till n-th term. Examples:\n",
        "\n",
        "\n",
        "Input : n = 5\n",
        "\n",
        "Output : 225\n",
        "\n",
        "13 + 23 + 33 + 43 + 53 = 225\n",
        "\n",
        "Input : n = 7\n",
        "\n",
        "Output : 784\n",
        "13 + 23 + 33 + 43 + 53 + \n",
        "63 + 73 = 784"
      ],
      "metadata": {
        "id": "xpuONcq7U_7K"
      }
    },
    {
      "cell_type": "code",
      "source": [
        "# Simple Python program to find sum of series\n",
        "# with cubes of first n natural numbers\n",
        " \n",
        "# Returns the sum of series\n",
        "def sumOfSeries(n):\n",
        "    x = 0\n",
        "    for i in range(1, n+1):\n",
        "        x +=i*i*i\n",
        "         \n",
        "    return x\n",
        " \n",
        "  \n",
        "# Driver Function\n",
        "n = 5\n",
        "print(sumOfSeries(n))"
      ],
      "metadata": {
        "colab": {
          "base_uri": "https://localhost:8080/"
        },
        "id": "SO-4y-AzWa-n",
        "outputId": "05112e4b-e05d-4210-a023-efa4733ecd0e"
      },
      "execution_count": null,
      "outputs": [
        {
          "output_type": "stream",
          "name": "stdout",
          "text": [
            "225\n"
          ]
        }
      ]
    },
    {
      "cell_type": "code",
      "source": [
        "#Method: Finding cube sum of first n natural numbers using built-in function pow(). \n",
        "#The pow() function finds the cube of a number by giving the values of i and number. ex: pow(i,3). \n",
        "\n",
        "\n",
        "# Python code\n",
        "# to print cube sum of first n natural numbers\n",
        "# using inbuilt function pow()\n",
        " \n",
        "n=5\n",
        "s=0\n",
        "# iterating loop up to given number n\n",
        "for i in range(1,n+1):\n",
        "    # adding cube sum using pow() function\n",
        "    s=s+pow(i,3)\n",
        "print(s)   \n",
        " "
      ],
      "metadata": {
        "colab": {
          "base_uri": "https://localhost:8080/"
        },
        "id": "_tDEUaLkXOnD",
        "outputId": "4d9aa822-6e5c-44fc-c6f0-b3003939fa27"
      },
      "execution_count": null,
      "outputs": [
        {
          "output_type": "stream",
          "name": "stdout",
          "text": [
            "225\n"
          ]
        }
      ]
    },
    {
      "cell_type": "markdown",
      "source": [
        "# **Q9. Python Program to check if given array is Monotonic**\n",
        "\n",
        "Given an array A containing n integers. The task is to check whether the array is Monotonic or not. An array is monotonic if it is either monotone increasing or monotone decreasing.\n",
        "\n",
        "An array A is monotone increasing if for all i <= j, A[i] <= A[j]. An array A is monotone decreasing if for all i <= j, A[i] >= A[j].\n",
        "\n",
        "Return “True” if the given array A is monotonic else return “False” "
      ],
      "metadata": {
        "id": "8XPb8wWaaKio"
      }
    },
    {
      "cell_type": "markdown",
      "source": [
        "Approach:\n",
        "\n",
        "An array is monotonic if and only if it is monotone increasing, or monotone decreasing. Since p <= q and q <= r implies p <= r. So we only need to check adjacent elements to determine if the array is monotone increasing (or decreasing), respectively. We can check each of these properties in one pass.\n",
        "\n",
        "To check whether an array A is monotone increasing, we’ll check A[i] <= A[i+1] for all i indexing from 0 to len(A)-2. Similarly we can check for monotone decreasing where A[i] >= A[i+1] for all i indexing from 0 to len(A)-2.\n",
        "\n",
        "Note: Array with single element can be considered to be both monotonic increasing or decreasing, hence returns “True“"
      ],
      "metadata": {
        "id": "2nExniBzbavC"
      }
    },
    {
      "cell_type": "code",
      "source": [
        "# Check if given array is Monotonic\n",
        "def isMonotonic(A):\n",
        "  \n",
        "    return (all(A[i] <= A[i + 1] for i in range(len(A) - 1)) or\n",
        "            all(A[i] >= A[i + 1] for i in range(len(A) - 1)))\n",
        "  \n",
        "# Driver program\n",
        "A = [6, 5, 4, 4]\n",
        "  \n",
        "# Print required result\n",
        "print(isMonotonic(A))"
      ],
      "metadata": {
        "colab": {
          "base_uri": "https://localhost:8080/"
        },
        "id": "1Co1CxKzZlE4",
        "outputId": "be6344df-6270-4b13-e2e5-e7f4b273d062"
      },
      "execution_count": null,
      "outputs": [
        {
          "output_type": "stream",
          "name": "stdout",
          "text": [
            "True\n"
          ]
        }
      ]
    },
    {
      "cell_type": "code",
      "source": [
        "b = [10,11,12,15,14,12]\n",
        "\n",
        "print(isMonotonic(b))"
      ],
      "metadata": {
        "colab": {
          "base_uri": "https://localhost:8080/"
        },
        "id": "hqQkA-ztbvAv",
        "outputId": "5cd8b63f-3b5b-4fe6-e9b6-a686ed7c1c41"
      },
      "execution_count": null,
      "outputs": [
        {
          "output_type": "stream",
          "name": "stdout",
          "text": [
            "False\n"
          ]
        }
      ]
    },
    {
      "cell_type": "markdown",
      "source": [
        "# **Q10.Python program to find second largest number in a list**"
      ],
      "metadata": {
        "id": "JY9tTkQAcDFk"
      }
    },
    {
      "cell_type": "code",
      "source": [
        "# Python program to find largest number\n",
        "# in a list\n",
        " \n",
        "# List of numbers\n",
        "list1 = [10, 20, 20, 4, 45, 45, 45, 99, 99]\n",
        " \n",
        "# Removing duplicates from the list\n",
        "list2 = list(set(list1))\n",
        " \n",
        "# Sorting the  list\n",
        "list2.sort()\n",
        " \n",
        "# Printing the second last element\n",
        "print(\"Second largest element is:\", list2[-2])"
      ],
      "metadata": {
        "colab": {
          "base_uri": "https://localhost:8080/"
        },
        "id": "aWTGlsbFb2_c",
        "outputId": "d27f252e-d173-47ef-facc-463b05fab41b"
      },
      "execution_count": null,
      "outputs": [
        {
          "output_type": "stream",
          "name": "stdout",
          "text": [
            "Second largest element is: 45\n"
          ]
        }
      ]
    },
    {
      "cell_type": "code",
      "source": [
        "# Python program to find second largest\n",
        "# number in a list\n",
        " \n",
        "# creating list of integer type\n",
        "list1 = [10, 20, 4, 45, 99]\n",
        " \n",
        "'''\n",
        "# sort the list   \n",
        "list1.sort()\n",
        "     \n",
        "# print second maximum element\n",
        "print(\"Second largest element is:\", list1[-2])\n",
        " \n",
        "'''\n",
        " \n",
        "# print second maximum element using sorted() method\n",
        "print(\"Second largest element is:\", sorted(list1)[-2])"
      ],
      "metadata": {
        "colab": {
          "base_uri": "https://localhost:8080/"
        },
        "id": "rzeCJ_pWdkTR",
        "outputId": "dba250a8-1277-44e1-91cf-f6a6a829e482"
      },
      "execution_count": null,
      "outputs": [
        {
          "output_type": "stream",
          "name": "stdout",
          "text": [
            "Second largest element is: 45\n"
          ]
        }
      ]
    },
    {
      "cell_type": "code",
      "source": [
        ""
      ],
      "metadata": {
        "id": "N9tIM9XqdsTy"
      },
      "execution_count": null,
      "outputs": []
    }
  ]
}