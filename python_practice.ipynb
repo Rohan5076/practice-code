{
  "nbformat": 4,
  "nbformat_minor": 0,
  "metadata": {
    "colab": {
      "provenance": [],
      "authorship_tag": "ABX9TyOvPmWWuizGi5Hu6jVNctus",
      "include_colab_link": true
    },
    "kernelspec": {
      "name": "python3",
      "display_name": "Python 3"
    },
    "language_info": {
      "name": "python"
    }
  },
  "cells": [
    {
      "cell_type": "markdown",
      "metadata": {
        "id": "view-in-github",
        "colab_type": "text"
      },
      "source": [
        "<a href=\"https://colab.research.google.com/github/Rohan5076/practice-code/blob/main/python_practice.ipynb\" target=\"_parent\"><img src=\"https://colab.research.google.com/assets/colab-badge.svg\" alt=\"Open In Colab\"/></a>"
      ]
    },
    {
      "cell_type": "code",
      "execution_count": null,
      "metadata": {
        "id": "K0DCC47-9MDc",
        "colab": {
          "base_uri": "https://localhost:8080/",
          "height": 36
        },
        "outputId": "1b5469d0-5990-4603-f123-2704a4b69930"
      },
      "outputs": [
        {
          "output_type": "execute_result",
          "data": {
            "text/plain": [
              "'?uoy tuoba woH .nohtyP ni gnimmargorp evol I'"
            ],
            "application/vnd.google.colaboratory.intrinsic+json": {
              "type": "string"
            }
          },
          "metadata": {},
          "execution_count": 1
        }
      ],
      "source": [
        "sentence = \"I love programming in Python. How about you?\"\n",
        "''.join(sentence[-i] for i in range(1, len(sentence)+1))"
      ]
    },
    {
      "cell_type": "code",
      "source": [
        "n=15\n",
        "for i in range (0,n,1):\n",
        "  print(* ' ' +i * ' * ')"
      ],
      "metadata": {
        "colab": {
          "base_uri": "https://localhost:8080/"
        },
        "id": "ms9HqnKsENjT",
        "outputId": "cd3af88e-876e-4737-e833-6083539c78bf"
      },
      "execution_count": 1,
      "outputs": [
        {
          "output_type": "stream",
          "name": "stdout",
          "text": [
            " \n",
            "    *  \n",
            "    *     *  \n",
            "    *     *     *  \n",
            "    *     *     *     *  \n",
            "    *     *     *     *     *  \n",
            "    *     *     *     *     *     *  \n",
            "    *     *     *     *     *     *     *  \n",
            "    *     *     *     *     *     *     *     *  \n",
            "    *     *     *     *     *     *     *     *     *  \n",
            "    *     *     *     *     *     *     *     *     *     *  \n",
            "    *     *     *     *     *     *     *     *     *     *     *  \n",
            "    *     *     *     *     *     *     *     *     *     *     *     *  \n",
            "    *     *     *     *     *     *     *     *     *     *     *     *     *  \n",
            "    *     *     *     *     *     *     *     *     *     *     *     *     *     *  \n"
          ]
        }
      ]
    },
    {
      "cell_type": "code",
      "source": [
        "  s='asfgbdfhdh'\n",
        "  s=set(s)\n",
        "  s=\"\".join(s)\n",
        "  print(\"without order:\",s)"
      ],
      "metadata": {
        "id": "IB8ZBpTL3Y2k",
        "outputId": "8d7eb3c0-4f15-4ebc-da1d-eb80eba6dc90",
        "colab": {
          "base_uri": "https://localhost:8080/"
        }
      },
      "execution_count": null,
      "outputs": [
        {
          "output_type": "stream",
          "name": "stdout",
          "text": [
            "without order: sdgafbh\n"
          ]
        }
      ]
    },
    {
      "cell_type": "code",
      "source": [
        "\n",
        "def two_string_equivalent(word1,word2):\n",
        "    return \"\".join(word1) == \"\".join(word2)\n",
        "\n",
        "# test case\n",
        "word1 = [\"ab\", \"c\"]\n",
        "word2 = [\"a\", \"bc\"]\n",
        "two_string_equivalent(word1,word2)"
      ],
      "metadata": {
        "colab": {
          "base_uri": "https://localhost:8080/"
        },
        "id": "9moRx4fRyDIw",
        "outputId": "49312b09-e592-4d85-a6a4-ee427523371a"
      },
      "execution_count": null,
      "outputs": [
        {
          "output_type": "execute_result",
          "data": {
            "text/plain": [
              "True"
            ]
          },
          "metadata": {},
          "execution_count": 1
        }
      ]
    },
    {
      "cell_type": "code",
      "source": [
        "def two_string_equivalent(word1,word2):\n",
        "    return \"\".join(word1) == \"\".join(word2)\n",
        "\n",
        "# test case\n",
        "word1 = [\"ab\", \"c\"]\n",
        "word2 = [\"a\", \"bc\"]\n",
        "two_string_equivalent(word1,word2)"
      ],
      "metadata": {
        "id": "B250obMSF2qs",
        "outputId": "682adafb-3dae-42f9-9935-427243dccff0",
        "colab": {
          "base_uri": "https://localhost:8080/"
        }
      },
      "execution_count": null,
      "outputs": [
        {
          "output_type": "execute_result",
          "data": {
            "text/plain": [
              "True"
            ]
          },
          "metadata": {},
          "execution_count": 1
        }
      ]
    },
    {
      "cell_type": "code",
      "source": [
        "def fibonacci(n):\n",
        "    if n <= 1:\n",
        "        return n\n",
        "    return fibonacci(n-1)+fibonacci(n-2)\n",
        "\n",
        "# test case\n",
        "fibonacci(n=11)#2 "
      ],
      "metadata": {
        "id": "urpqHIufqM92",
        "outputId": "28f4f953-932c-4494-ada9-58d877c4e8f4",
        "colab": {
          "base_uri": "https://localhost:8080/"
        }
      },
      "execution_count": null,
      "outputs": [
        {
          "output_type": "execute_result",
          "data": {
            "text/plain": [
              "89"
            ]
          },
          "metadata": {},
          "execution_count": 1
        }
      ]
    },
    {
      "cell_type": "code",
      "source": [
        "sentence = \"I love programming in Python. How about you?\"\n",
        "sen2=sentence[::-1]\n",
        "sen2"
      ],
      "metadata": {
        "id": "24kxPYvg_9TO",
        "outputId": "f9deac5c-79b7-45fb-d3a8-9533a06d4a27",
        "colab": {
          "base_uri": "https://localhost:8080/",
          "height": 36
        }
      },
      "execution_count": null,
      "outputs": [
        {
          "output_type": "execute_result",
          "data": {
            "text/plain": [
              "'?uoy tuoba woH .nohtyP ni gnimmargorp evol I'"
            ],
            "application/vnd.google.colaboratory.intrinsic+json": {
              "type": "string"
            }
          },
          "metadata": {},
          "execution_count": 1
        }
      ]
    },
    {
      "cell_type": "markdown",
      "source": [
        "Question 1\n",
        "Level 1\n",
        "\n",
        "Question: Write a program which will find all such numbers which are divisible by 7 but are not a multiple of 5, between 2000 and 3200 (both included). The numbers obtained should be printed in a comma-separated sequence on a single line.\n",
        "\n",
        "Hints: Consider use range(#begin, #end) method\n",
        "\n",
        "Solution:"
      ],
      "metadata": {
        "id": "VYfQoDBL9Pfv"
      }
    },
    {
      "cell_type": "code",
      "source": [
        "l=[]\n",
        "for i in range(2000,3201):\n",
        "  if(i%7==0) and (i%5!=0):\n",
        "    l.append(str(i))\n",
        "\n",
        "print(','.join(l))"
      ],
      "metadata": {
        "colab": {
          "base_uri": "https://localhost:8080/"
        },
        "id": "XpQ7ByEx9SB4",
        "outputId": "7a804362-417f-4c2c-c850-844bb6884307"
      },
      "execution_count": null,
      "outputs": [
        {
          "output_type": "stream",
          "name": "stdout",
          "text": [
            "2002,2009,2016,2023,2037,2044,2051,2058,2072,2079,2086,2093,2107,2114,2121,2128,2142,2149,2156,2163,2177,2184,2191,2198,2212,2219,2226,2233,2247,2254,2261,2268,2282,2289,2296,2303,2317,2324,2331,2338,2352,2359,2366,2373,2387,2394,2401,2408,2422,2429,2436,2443,2457,2464,2471,2478,2492,2499,2506,2513,2527,2534,2541,2548,2562,2569,2576,2583,2597,2604,2611,2618,2632,2639,2646,2653,2667,2674,2681,2688,2702,2709,2716,2723,2737,2744,2751,2758,2772,2779,2786,2793,2807,2814,2821,2828,2842,2849,2856,2863,2877,2884,2891,2898,2912,2919,2926,2933,2947,2954,2961,2968,2982,2989,2996,3003,3017,3024,3031,3038,3052,3059,3066,3073,3087,3094,3101,3108,3122,3129,3136,3143,3157,3164,3171,3178,3192,3199\n"
          ]
        }
      ]
    },
    {
      "cell_type": "markdown",
      "source": [
        "Question 2\n",
        "Level 1\n",
        "\n",
        "Question: Write a program which can compute the factorial of a given numbers. The results should be printed in a comma-separated sequence on a single line. Suppose the following input is supplied to the program: 8 Then, the output should be: 40320\n",
        "\n",
        "Hints: In case of input data being supplied to the question, it should be assumed to be a console input.\n",
        "\n",
        "Solution:"
      ],
      "metadata": {
        "id": "Vw8qu_2c-CMP"
      }
    },
    {
      "cell_type": "code",
      "source": [
        "def fact(x):\n",
        "  if x==0:\n",
        "    return 1\n",
        "  return x * fact (x-1)\n",
        "\n",
        "x= int(input())\n",
        "print(fact(x))"
      ],
      "metadata": {
        "colab": {
          "base_uri": "https://localhost:8080/"
        },
        "id": "JVp89SOB9uA9",
        "outputId": "cbec54bd-e659-4151-e66f-dcb41e0aa242"
      },
      "execution_count": null,
      "outputs": [
        {
          "output_type": "stream",
          "name": "stdout",
          "text": [
            "5\n",
            "120\n"
          ]
        }
      ]
    },
    {
      "cell_type": "markdown",
      "source": [
        "Question 3\n",
        "Level 1\n",
        "\n",
        "Question: With a given integral number n, write a program to generate a dictionary that contains (i, i*i) such that is an integral number between 1 and n (both included). and then the program should print the dictionary. Suppose the following input is supplied to the program: 8 Then, the output should be: {1: 1, 2: 4, 3: 9, 4: 16, 5: 25, 6: 36, 7: 49, 8: 64}\n",
        "\n",
        "Hints: In case of input data being supplied to the question, it should be assumed to be a console input. Consider use dict()\n",
        "\n",
        "Solution:"
      ],
      "metadata": {
        "id": "Cz-J7WX7-m4I"
      }
    },
    {
      "cell_type": "code",
      "source": [
        "n=int(input())\n",
        "d=dict()\n",
        "for i in range(1,n+1):\n",
        "  d[i]=i*i\n",
        "\n",
        "print(d)"
      ],
      "metadata": {
        "colab": {
          "base_uri": "https://localhost:8080/"
        },
        "id": "4qPB60_N-cH0",
        "outputId": "69abd965-1176-493f-eb64-1fad8b639732"
      },
      "execution_count": null,
      "outputs": [
        {
          "output_type": "stream",
          "name": "stdout",
          "text": [
            "4\n",
            "{1: 1, 2: 4, 3: 9, 4: 16}\n"
          ]
        }
      ]
    },
    {
      "cell_type": "markdown",
      "source": [
        "Question 4\n",
        "Level 1\n",
        "\n",
        "Question: Write a program which accepts a sequence of comma-separated numbers from console and generate a list and a tuple which contains every number. Suppose the following input is supplied to the program: 34,67,55,33,12,98 Then, the output should be: ['34', '67', '55', '33', '12', '98'] ('34', '67', '55', '33', '12', '98')\n",
        "\n",
        "Hints: In case of input data being supplied to the question, it should be assumed to be a console input. tuple() method can convert list to tuple\n",
        "\n",
        "Solution:"
      ],
      "metadata": {
        "id": "A9lRBQPg_NgH"
      }
    },
    {
      "cell_type": "code",
      "source": [
        "values=input()\n",
        "l=values.split(\",\")\n",
        "t=tuple(l)\n",
        "print(l)\n",
        "print(t)"
      ],
      "metadata": {
        "colab": {
          "base_uri": "https://localhost:8080/"
        },
        "id": "73-zcQYw_Ga-",
        "outputId": "a79f6e5f-8e5c-4efe-9b64-c40b88dfb768"
      },
      "execution_count": null,
      "outputs": [
        {
          "output_type": "stream",
          "name": "stdout",
          "text": [
            "1,2,3,4\n",
            "['1', '2', '3', '4']\n",
            "('1', '2', '3', '4')\n"
          ]
        }
      ]
    },
    {
      "cell_type": "markdown",
      "source": [
        "Question 5\n",
        "Level 1\n",
        "\n",
        "Question: Define a class which has at least two methods: getString: to get a string from console input printString: to print the string in upper case. Also please include simple test function to test the class methods.\n",
        "\n",
        "Hints: Use init method to construct some parameters\n",
        "\n",
        "Solution:"
      ],
      "metadata": {
        "id": "reNFlr1IAJib"
      }
    },
    {
      "cell_type": "code",
      "source": [
        "class InputOutString(object):\n",
        "    def __init__(self):\n",
        "        self.s = \"\"\n",
        "\n",
        "    def getString(self):\n",
        "        self.s = input()\n",
        "    \n",
        "    def printString(self):\n",
        "        print(self.s.upper())\n",
        "\n",
        "strObj = InputOutString()\n",
        "strObj.getString()\n",
        "strObj.printString()"
      ],
      "metadata": {
        "colab": {
          "base_uri": "https://localhost:8080/"
        },
        "id": "f2UrsQ3b_gd0",
        "outputId": "21fe7391-41de-40cc-8214-c6d777add952"
      },
      "execution_count": null,
      "outputs": [
        {
          "output_type": "stream",
          "name": "stdout",
          "text": [
            "a,b,a,2,6\n",
            "A,B,A,2,6\n"
          ]
        }
      ]
    },
    {
      "cell_type": "markdown",
      "source": [
        "Question 8\n",
        "Level 2\n",
        "\n",
        "Question: Write a program that accepts a comma separated sequence of words as input and prints the words in a comma-separated sequence after sorting them alphabetically. Suppose the following input is supplied to the program: without,hello,bag,world Then, the output should be: bag,hello,without,world\n",
        "\n",
        "Hints: In case of input data being supplied to the question, it should be assumed to be a console input.\n",
        "\n",
        "Solution:"
      ],
      "metadata": {
        "id": "vYdqt0krD_gy"
      }
    },
    {
      "cell_type": "code",
      "source": [
        "items=[x for x in input().split(',')]\n",
        "items.sort()\n",
        "print(','.join(items))"
      ],
      "metadata": {
        "colab": {
          "base_uri": "https://localhost:8080/"
        },
        "id": "-iI3Nr-4B-X-",
        "outputId": "f4c53f1b-5083-4be4-ae85-1951429293ca"
      },
      "execution_count": null,
      "outputs": [
        {
          "output_type": "stream",
          "name": "stdout",
          "text": [
            "d,de,ft,s,g,r,sg,er,tx,h,t,g\n",
            "d,de,er,ft,g,g,h,r,s,sg,t,tx\n"
          ]
        }
      ]
    },
    {
      "cell_type": "markdown",
      "source": [
        "Question 9\n",
        "Level 2\n",
        "\n",
        "Question£º Write a program that accepts sequence of lines as input and prints the lines after making all characters in the sentence capitalized. Suppose the following input is supplied to the program: Hello world Practice makes perfect Then, the output should be: HELLO WORLD PRACTICE MAKES PERFECT\n",
        "\n",
        "Hints: In case of input data being supplied to the question, it should be assumed to be a console input.\n",
        "\n",
        "Solution:"
      ],
      "metadata": {
        "id": "L0QAnPpkGhi1"
      }
    },
    {
      "cell_type": "code",
      "source": [
        "lines = []\n",
        "while True:\n",
        "    s = input()\n",
        "    if s:\n",
        "        lines.append(s.upper())\n",
        "    else:\n",
        "        break;\n",
        "\n",
        "for sentence in lines:\n",
        "    print(sentence)"
      ],
      "metadata": {
        "colab": {
          "base_uri": "https://localhost:8080/"
        },
        "id": "za-M7CmmEBwo",
        "outputId": "3c1b5893-f03d-46ef-8c8d-e5b06d5487ad"
      },
      "execution_count": null,
      "outputs": [
        {
          "output_type": "stream",
          "name": "stdout",
          "text": [
            "a,f,e,s,u,f,d\n",
            "a,f,h,4,ds,g,u,f\n",
            "\n",
            "A,F,E,S,U,F,D\n",
            "A,F,H,4,DS,G,U,F\n"
          ]
        }
      ]
    },
    {
      "cell_type": "code",
      "source": [
        "lines=[]\n",
        "s=input()\n",
        "if s:\n",
        "    lines.append(s.upper())\n",
        "     \n",
        "for senetence  in lines:\n",
        "  print( senetence)"
      ],
      "metadata": {
        "colab": {
          "base_uri": "https://localhost:8080/"
        },
        "id": "VBR-Hou2Gj6Q",
        "outputId": "8df20a67-0689-42c9-d93b-f8176d535197"
      },
      "execution_count": null,
      "outputs": [
        {
          "output_type": "stream",
          "name": "stdout",
          "text": [
            "a,d,f,g\n",
            "A,D,F,G\n"
          ]
        }
      ]
    },
    {
      "cell_type": "markdown",
      "source": [
        "Question 10\n",
        "Level 2\n",
        "\n",
        "Question: Write a program that accepts a sequence of whitespace separated words as input and prints the words after removing all duplicate words and sorting them alphanumerically. Suppose the following input is supplied to the program: hello world and practice makes perfect and hello world again Then, the output should be: again and hello makes perfect practice world\n",
        "\n",
        "Hints: In case of input data being supplied to the question, it should be assumed to be a console input. We use set container to remove duplicated data automatically and then use sorted() to sort the data.\n",
        "\n",
        "Solution:"
      ],
      "metadata": {
        "id": "GkTjjt_QJC7l"
      }
    },
    {
      "cell_type": "code",
      "source": [
        "s = input()\n",
        "words = [word for word in s.split(\",\")]\n",
        "print(\" \".join(sorted(list(set(words)))))"
      ],
      "metadata": {
        "colab": {
          "base_uri": "https://localhost:8080/"
        },
        "id": "57X56tLhHRV7",
        "outputId": "f86d0403-a507-4c01-98b3-fc4edb2242ec"
      },
      "execution_count": null,
      "outputs": [
        {
          "output_type": "stream",
          "name": "stdout",
          "text": [
            "s h k y  5 h 5 h \n",
            " 5 h k s y\n"
          ]
        }
      ]
    },
    {
      "cell_type": "markdown",
      "source": [
        "Q1. Python program to check if a string is palindrome or not\n",
        "Given a string, write a python function to check if it is palindrome or not. A string is said to be palindrome if the reverse of the string is the same as string. For example, “radar” is a palindrome, but “radix” is not a palindrome.\n",
        "\n",
        "Method #1\n",
        "\n",
        "Find reverse of string\n",
        "Check if reverse and original are same or not."
      ],
      "metadata": {
        "id": "DtCYRuIYNJe5"
      }
    },
    {
      "cell_type": "code",
      "source": [
        "def ispalendrome(s):\n",
        "  return(s==s[::-1])\n",
        "\n",
        "s=input()\n",
        "ans=ispalendrome\n",
        "if ans:\n",
        "  print(\"yes\")\n",
        "else:\n",
        "  print(\"no\")\n",
        "\n"
      ],
      "metadata": {
        "colab": {
          "base_uri": "https://localhost:8080/"
        },
        "id": "pPsAZ-V9JYmQ",
        "outputId": "4c70621a-69ef-447d-9d38-608aeb5dbae9"
      },
      "execution_count": null,
      "outputs": [
        {
          "output_type": "stream",
          "name": "stdout",
          "text": [
            "malayalam\n",
            "yes\n"
          ]
        }
      ]
    },
    {
      "cell_type": "markdown",
      "source": [
        "Q2.Remove all duplicates from a given string in Python"
      ],
      "metadata": {
        "id": "_jEyd_SuRwDd"
      }
    },
    {
      "cell_type": "code",
      "source": [
        "def removeDuplicate(str):\n",
        "    s=set(str)\n",
        "    s=\"\".join(s)\n",
        "    print(\"Without Order:\",s)\n",
        "    t=\"\"\n",
        "    for i in str:\n",
        "        if(i in t):\n",
        "            pass\n",
        "        else:\n",
        "            t=t+i\n",
        "    print(\"With Order:\",t)\n",
        "     \n",
        "str=\"Python is easy language\"\n",
        "removeDuplicate(str)"
      ],
      "metadata": {
        "colab": {
          "base_uri": "https://localhost:8080/"
        },
        "id": "HDqaa6ltSTfG",
        "outputId": "cbfd62ec-f0c0-48d9-9770-e8439b887b27"
      },
      "execution_count": null,
      "outputs": [
        {
          "output_type": "stream",
          "name": "stdout",
          "text": [
            "Without Order: ielghuo atysPn\n",
            "With Order: Python isealgu\n"
          ]
        }
      ]
    },
    {
      "cell_type": "markdown",
      "source": [
        "all prime numbers in range"
      ],
      "metadata": {
        "id": "RoPasWtt_7Iq"
      }
    },
    {
      "cell_type": "code",
      "source": [
        "lower =900\n",
        "upper =1000\n",
        "\n",
        "for num in range (lower,upper+1):\n",
        "  if num>1:\n",
        "    for i in range(2,num):\n",
        "      if num%i==0:\n",
        "        break\n",
        "  else:\n",
        "    print(num)"
      ],
      "metadata": {
        "id": "eROhzz70pCB_"
      },
      "execution_count": null,
      "outputs": []
    },
    {
      "cell_type": "code",
      "source": [
        "# Python program to display all the prime numbers within an interval\n",
        "\n",
        "lower = 900\n",
        "upper = 1000\n",
        "\n",
        "print(\"Prime numbers between\", lower, \"and\", upper, \"are:\")\n",
        "\n",
        "for num in range(lower, upper + 1):\n",
        "   # all prime numbers are greater than 1\n",
        "   if num > 1:\n",
        "       for i in range(2, num):\n",
        "           if (num % i) == 0:\n",
        "               break\n",
        "       else:\n",
        "           print(num)"
      ],
      "metadata": {
        "colab": {
          "base_uri": "https://localhost:8080/"
        },
        "id": "KQmL5Ft3ArFL",
        "outputId": "1e8e80f3-7128-4777-99bf-a965a5272d84"
      },
      "execution_count": null,
      "outputs": [
        {
          "output_type": "stream",
          "name": "stdout",
          "text": [
            "Prime numbers between 900 and 1000 are:\n",
            "907\n",
            "911\n",
            "919\n",
            "929\n",
            "937\n",
            "941\n",
            "947\n",
            "953\n",
            "967\n",
            "971\n",
            "977\n",
            "983\n",
            "991\n",
            "997\n"
          ]
        }
      ]
    },
    {
      "cell_type": "code",
      "source": [
        "list1=[42,52,13,74,12,19,27]\n",
        "for i in range(len(list1)):\n",
        "  for j in range(i):\n",
        "    if list1[i]<list1[j]:\n",
        "      list1[i],list1[j]=list1[j],list1[i]\n",
        "print(list1)    "
      ],
      "metadata": {
        "colab": {
          "base_uri": "https://localhost:8080/"
        },
        "id": "SRl17NicAxQN",
        "outputId": "5c52fd21-f3ba-4fd1-e93d-7eb3e8b873fd"
      },
      "execution_count": null,
      "outputs": [
        {
          "output_type": "stream",
          "name": "stdout",
          "text": [
            "[12, 13, 19, 27, 42, 52, 74]\n"
          ]
        }
      ]
    },
    {
      "cell_type": "code",
      "source": [
        "lower = 900\n",
        "upper = 1000\n",
        "\n",
        "for num in range(lower,upper+1):\n",
        "    for i in range(2,int(num/2)+1):\n",
        "      if num%i==0:\n",
        "       break\n",
        "    else:\n",
        "        print(num)"
      ],
      "metadata": {
        "colab": {
          "base_uri": "https://localhost:8080/"
        },
        "id": "gLebW3G7CQG9",
        "outputId": "cea93782-8fd8-40d7-8339-07fd8e105a61"
      },
      "execution_count": null,
      "outputs": [
        {
          "output_type": "stream",
          "name": "stdout",
          "text": [
            "907\n",
            "911\n",
            "919\n",
            "929\n",
            "937\n",
            "941\n",
            "947\n",
            "953\n",
            "967\n",
            "971\n",
            "977\n",
            "983\n",
            "991\n",
            "997\n"
          ]
        }
      ]
    },
    {
      "cell_type": "code",
      "source": [
        "lst=[12,1,5,1,6,8,4,6]\n",
        "for i in range(len(lst)):\n",
        "  for j in range(i):\n",
        "    if lst[i]>lst[j]:\n",
        "      lst[i],lst[j]=lst[j],lst[i]\n",
        "print(lst)"
      ],
      "metadata": {
        "colab": {
          "base_uri": "https://localhost:8080/"
        },
        "id": "3cpqPAHaE1Ab",
        "outputId": "148a485d-5bf7-4bf7-a947-502f85fbada0"
      },
      "execution_count": null,
      "outputs": [
        {
          "output_type": "stream",
          "name": "stdout",
          "text": [
            "[12, 8, 6, 6, 5, 4, 1, 1]\n"
          ]
        }
      ]
    },
    {
      "cell_type": "code",
      "source": [
        "up=1000\n",
        "lw=900\n",
        "for num in range(lw,up+1):\n",
        "  for i in range(2,int(num/2)+1):\n",
        "    if(num%i==0):\n",
        "      break\n",
        "  else:\n",
        "    print(num)\n"
      ],
      "metadata": {
        "colab": {
          "base_uri": "https://localhost:8080/"
        },
        "id": "qWXYOiAWPMvy",
        "outputId": "9059a932-983f-4110-a159-f8d99334dfc5"
      },
      "execution_count": null,
      "outputs": [
        {
          "output_type": "stream",
          "name": "stdout",
          "text": [
            "907\n",
            "911\n",
            "919\n",
            "929\n",
            "937\n",
            "941\n",
            "947\n",
            "953\n",
            "967\n",
            "971\n",
            "977\n",
            "983\n",
            "991\n",
            "997\n"
          ]
        }
      ]
    },
    {
      "cell_type": "code",
      "source": [
        "n=5\n",
        "for i in range (n, 0, -1):\n",
        "    print( * ' ' + i * '*')"
      ],
      "metadata": {
        "colab": {
          "base_uri": "https://localhost:8080/"
        },
        "id": "3ykl6-PeP07I",
        "outputId": "018841ec-8b80-4037-ec26-0810d45feb10"
      },
      "execution_count": null,
      "outputs": [
        {
          "output_type": "stream",
          "name": "stdout",
          "text": [
            "  * * * * *\n",
            "  * * * *\n",
            "  * * *\n",
            "  * *\n",
            "  *\n"
          ]
        }
      ]
    },
    {
      "cell_type": "code",
      "source": [
        "for i in range (n,0,-1):\n",
        "  print(*\" \",+i * ' * ')"
      ],
      "metadata": {
        "colab": {
          "base_uri": "https://localhost:8080/"
        },
        "id": "1tU2e2lbRIqH",
        "outputId": "a3a807a5-4159-46c6-9c5f-16f0a816e2e5"
      },
      "execution_count": null,
      "outputs": [
        {
          "output_type": "stream",
          "name": "stdout",
          "text": [
            "   *  *  *  *  * \n",
            "   *  *  *  * \n",
            "   *  *  * \n",
            "   *  * \n",
            "   * \n"
          ]
        }
      ]
    },
    {
      "cell_type": "code",
      "source": [
        "for i in range(0,n,1):\n",
        "  print(* \" \",+ i * \" * \")"
      ],
      "metadata": {
        "colab": {
          "base_uri": "https://localhost:8080/"
        },
        "id": "gGXt9G5HRbPk",
        "outputId": "b1413717-1875-403c-c46f-b7b48e7958d3"
      },
      "execution_count": null,
      "outputs": [
        {
          "output_type": "stream",
          "name": "stdout",
          "text": [
            "  \n",
            "   * \n",
            "   *  * \n",
            "   *  *  * \n",
            "   *  *  *  * \n"
          ]
        }
      ]
    },
    {
      "cell_type": "code",
      "source": [
        "def fib(n):\n",
        "  if n<0 :\n",
        "    print('Incorrect Input')\n",
        "  elif n ==1 :\n",
        "    return 0\n",
        "  elif n==2 :\n",
        "    return 1\n",
        "  else:\n",
        "    return fib(n-1)+fib(n-2)\n",
        "fib(10)"
      ],
      "metadata": {
        "colab": {
          "base_uri": "https://localhost:8080/"
        },
        "id": "KTEmOm-uR16K",
        "outputId": "e5982fba-1e62-496b-ef2c-2ba5ed513712"
      },
      "execution_count": null,
      "outputs": [
        {
          "output_type": "execute_result",
          "data": {
            "text/plain": [
              "34"
            ]
          },
          "metadata": {},
          "execution_count": 51
        }
      ]
    },
    {
      "cell_type": "code",
      "source": [
        "def fib(n):\n",
        "  if n<0:\n",
        "    print(\"incorrect output\")\n",
        "  elif n==1:\n",
        "    return 0\n",
        "  elif n==2:\n",
        "    return 1\n",
        "  else:\n",
        "    return fib(n-1)+fib(n-2)\n",
        "fib(10)"
      ],
      "metadata": {
        "colab": {
          "base_uri": "https://localhost:8080/"
        },
        "id": "6bQaVjy5SGv_",
        "outputId": "0d775e88-311e-4074-81bd-cde8b0cd5c64"
      },
      "execution_count": null,
      "outputs": [
        {
          "output_type": "execute_result",
          "data": {
            "text/plain": [
              "34"
            ]
          },
          "metadata": {},
          "execution_count": 53
        }
      ]
    },
    {
      "cell_type": "code",
      "source": [],
      "metadata": {
        "id": "r6PPayI5S9-w"
      },
      "execution_count": null,
      "outputs": []
    }
  ]
}