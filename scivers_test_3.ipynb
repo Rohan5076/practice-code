{
  "nbformat": 4,
  "nbformat_minor": 0,
  "metadata": {
    "colab": {
      "provenance": [],
      "mount_file_id": "1SgVRcGUVwk_yEmaYKgif2tmi7nkV3Lyr",
      "authorship_tag": "ABX9TyNuL40ytx5fJOK9i/jc5Csr",
      "include_colab_link": true
    },
    "kernelspec": {
      "name": "python3",
      "display_name": "Python 3"
    },
    "language_info": {
      "name": "python"
    },
    "accelerator": "GPU",
    "gpuClass": "standard"
  },
  "cells": [
    {
      "cell_type": "markdown",
      "metadata": {
        "id": "view-in-github",
        "colab_type": "text"
      },
      "source": [
        "<a href=\"https://colab.research.google.com/github/Rohan5076/practice-code/blob/main/scivers_test_3.ipynb\" target=\"_parent\"><img src=\"https://colab.research.google.com/assets/colab-badge.svg\" alt=\"Open In Colab\"/></a>"
      ]
    },
    {
      "cell_type": "code",
      "execution_count": 1,
      "metadata": {
        "id": "Um07os_5Gndf"
      },
      "outputs": [],
      "source": [
        "# Convolutional Neural Network\n",
        "\n",
        "# Importing the libraries\n",
        "import tensorflow as tf\n",
        "from tensorflow.keras.preprocessing.image import ImageDataGenerator"
      ]
    },
    {
      "cell_type": "code",
      "source": [
        "tf.__version__"
      ],
      "metadata": {
        "colab": {
          "base_uri": "https://localhost:8080/",
          "height": 36
        },
        "id": "HfD4Phb4HA1f",
        "outputId": "03ee23d8-07d8-4eda-b8e7-139808e1c500"
      },
      "execution_count": 2,
      "outputs": [
        {
          "output_type": "execute_result",
          "data": {
            "text/plain": [
              "'2.9.2'"
            ],
            "application/vnd.google.colaboratory.intrinsic+json": {
              "type": "string"
            }
          },
          "metadata": {},
          "execution_count": 2
        }
      ]
    },
    {
      "cell_type": "code",
      "source": [
        "# Part 1 - Data Preprocessing\n",
        "\n",
        "# Preprocessing the Training set\n",
        "train_datagen = ImageDataGenerator(rescale = 1./255,\n",
        "                                   shear_range = 0.2,\n",
        "                                   zoom_range = 0.2,\n",
        "                                   horizontal_flip = True)"
      ],
      "metadata": {
        "id": "mFz7L7DoHKvl"
      },
      "execution_count": 3,
      "outputs": []
    },
    {
      "cell_type": "code",
      "source": [
        "training_set = train_datagen.flow_from_directory('/content/drive/MyDrive/assignment scivers/jpeg_model/train1',\n",
        "                                                 target_size = (1080, 1980),\n",
        "                                                 batch_size = 32,\n",
        "                                                 class_mode = 'binary')\n",
        "\n",
        "# Preprocessing the Test set\n",
        "test_datagen = ImageDataGenerator(rescale = 1./255)\n",
        "test_set = test_datagen.flow_from_directory('/content/drive/MyDrive/assignment scivers/jpeg_model/test1',\n",
        "                                            target_size = (1080, 1980),\n",
        "                                            batch_size = 32,\n",
        "                                            class_mode = 'binary')"
      ],
      "metadata": {
        "colab": {
          "base_uri": "https://localhost:8080/"
        },
        "id": "Yuq_hlc-HNzc",
        "outputId": "c36e1776-cf72-49ef-af51-7a74ca378aad"
      },
      "execution_count": 4,
      "outputs": [
        {
          "output_type": "stream",
          "name": "stdout",
          "text": [
            "Found 90 images belonging to 2 classes.\n",
            "Found 20 images belonging to 2 classes.\n"
          ]
        }
      ]
    },
    {
      "cell_type": "code",
      "source": [
        "from tensorflow.keras.layers import Conv2D\n",
        "from tensorflow.keras.layers import Dense"
      ],
      "metadata": {
        "id": "-M02M4CtIJ3W"
      },
      "execution_count": 5,
      "outputs": []
    },
    {
      "cell_type": "code",
      "source": [
        "from tensorflow.keras.regularizers import l2"
      ],
      "metadata": {
        "id": "QyctfrEaINfC"
      },
      "execution_count": 6,
      "outputs": []
    },
    {
      "cell_type": "code",
      "source": [
        "# Part 2 - Building the CNN\n",
        "# Initialising the CNN\n",
        "cnn = tf.keras.models.Sequential()\n",
        "\n",
        "# Step 1 - Convolution\n",
        "cnn.add(tf.keras.layers.Conv2D(filters=32,padding=\"same\",kernel_size=3, activation='relu', strides=2, input_shape=[1080, 1980, 3]))\n",
        "\n",
        "# Step 2 - Pooling\n",
        "cnn.add(tf.keras.layers.MaxPool2D(pool_size=2, strides=2))\n",
        "\n",
        "# Adding a second convolutional layer\n",
        "cnn.add(tf.keras.layers.Conv2D(filters=32,padding='same',kernel_size=3, activation='relu'))\n",
        "cnn.add(tf.keras.layers.MaxPool2D(pool_size=2, strides=2))\n",
        "\n",
        "# Step 3 - Flattening\n",
        "cnn.add(tf.keras.layers.Flatten())\n",
        "\n",
        "# Step 4 - Full Connection\n",
        "cnn.add(tf.keras.layers.Dense(units=128, activation='relu'))\n",
        "\n",
        "# Step 5 - Output Layer\n",
        "#cnn.add(tf.keras.layers.Dense(units=1, activation='sigmoid'))\n",
        "## For Binary Classification\n",
        "cnn.add(Dense(1, kernel_regularizer=tf.keras.regularizers.l2(0.01),activation\n",
        "             ='linear'))"
      ],
      "metadata": {
        "id": "nFdCpMViIZ6L"
      },
      "execution_count": 7,
      "outputs": []
    },
    {
      "cell_type": "code",
      "source": [
        "## for mulitclassification\n",
        "cnn.add(Dense(4, kernel_regularizer=tf.keras.regularizers.l2(0.01),activation\n",
        "             ='softmax'))\n",
        "cnn.compile(optimizer = 'adam', loss = 'squared_hinge', metrics = ['accuracy'])"
      ],
      "metadata": {
        "id": "Lyfn-XNvIcuh"
      },
      "execution_count": 8,
      "outputs": []
    },
    {
      "cell_type": "code",
      "source": [
        "cnn.summary()"
      ],
      "metadata": {
        "colab": {
          "base_uri": "https://localhost:8080/"
        },
        "id": "HkaEpdjGIf4p",
        "outputId": "7dbdc962-5609-4518-de3e-59968b68d024"
      },
      "execution_count": 9,
      "outputs": [
        {
          "output_type": "stream",
          "name": "stdout",
          "text": [
            "Model: \"sequential\"\n",
            "_________________________________________________________________\n",
            " Layer (type)                Output Shape              Param #   \n",
            "=================================================================\n",
            " conv2d (Conv2D)             (None, 540, 990, 32)      896       \n",
            "                                                                 \n",
            " max_pooling2d (MaxPooling2D  (None, 270, 495, 32)     0         \n",
            " )                                                               \n",
            "                                                                 \n",
            " conv2d_1 (Conv2D)           (None, 270, 495, 32)      9248      \n",
            "                                                                 \n",
            " max_pooling2d_1 (MaxPooling  (None, 135, 247, 32)     0         \n",
            " 2D)                                                             \n",
            "                                                                 \n",
            " flatten (Flatten)           (None, 1067040)           0         \n",
            "                                                                 \n",
            " dense (Dense)               (None, 128)               136581248 \n",
            "                                                                 \n",
            " dense_1 (Dense)             (None, 1)                 129       \n",
            "                                                                 \n",
            " dense_2 (Dense)             (None, 4)                 8         \n",
            "                                                                 \n",
            "=================================================================\n",
            "Total params: 136,591,529\n",
            "Trainable params: 136,591,529\n",
            "Non-trainable params: 0\n",
            "_________________________________________________________________\n"
          ]
        }
      ]
    },
    {
      "cell_type": "code",
      "source": [
        "# Part 3 - Training the CNN\n",
        "\n",
        "# Compiling the CNN\n",
        "cnn.compile(optimizer = 'adam', loss = 'hinge', metrics = ['accuracy'])\n",
        "\n",
        "# Training the CNN on the Training set and evaluating it on the Test set\n",
        "r=cnn.fit(x = training_set, validation_data = test_set, epochs = 15)"
      ],
      "metadata": {
        "colab": {
          "base_uri": "https://localhost:8080/"
        },
        "id": "catzL25BIrKw",
        "outputId": "3f810924-2e63-4ce4-e42e-882ee9d63cec"
      },
      "execution_count": 10,
      "outputs": [
        {
          "output_type": "stream",
          "name": "stdout",
          "text": [
            "Epoch 1/15\n",
            "3/3 [==============================] - 68s 16s/step - loss: 1.0509 - accuracy: 0.0000e+00 - val_loss: 1.0281 - val_accuracy: 0.0000e+00\n",
            "Epoch 2/15\n",
            "3/3 [==============================] - 37s 12s/step - loss: 1.0500 - accuracy: 0.0000e+00 - val_loss: 1.0272 - val_accuracy: 0.0000e+00\n",
            "Epoch 3/15\n",
            "3/3 [==============================] - 37s 13s/step - loss: 1.0491 - accuracy: 0.0000e+00 - val_loss: 1.0263 - val_accuracy: 0.0000e+00\n",
            "Epoch 4/15\n",
            "3/3 [==============================] - 37s 13s/step - loss: 1.0482 - accuracy: 0.0000e+00 - val_loss: 1.0255 - val_accuracy: 0.0000e+00\n",
            "Epoch 5/15\n",
            "3/3 [==============================] - 37s 12s/step - loss: 1.0474 - accuracy: 0.0000e+00 - val_loss: 1.0247 - val_accuracy: 0.0000e+00\n",
            "Epoch 6/15\n",
            "3/3 [==============================] - 37s 12s/step - loss: 1.0466 - accuracy: 0.0000e+00 - val_loss: 1.0239 - val_accuracy: 0.0000e+00\n",
            "Epoch 7/15\n",
            "3/3 [==============================] - 37s 13s/step - loss: 1.0458 - accuracy: 0.0000e+00 - val_loss: 1.0231 - val_accuracy: 0.0000e+00\n",
            "Epoch 8/15\n",
            "3/3 [==============================] - 40s 13s/step - loss: 1.0450 - accuracy: 0.0000e+00 - val_loss: 1.0223 - val_accuracy: 0.0000e+00\n",
            "Epoch 9/15\n",
            "3/3 [==============================] - 37s 12s/step - loss: 1.0443 - accuracy: 0.0000e+00 - val_loss: 1.0216 - val_accuracy: 0.0000e+00\n",
            "Epoch 10/15\n",
            "3/3 [==============================] - 37s 12s/step - loss: 1.0436 - accuracy: 0.0000e+00 - val_loss: 1.0209 - val_accuracy: 0.0000e+00\n",
            "Epoch 11/15\n",
            "3/3 [==============================] - 37s 12s/step - loss: 1.0429 - accuracy: 0.0000e+00 - val_loss: 1.0202 - val_accuracy: 0.0000e+00\n",
            "Epoch 12/15\n",
            "3/3 [==============================] - 37s 13s/step - loss: 1.0422 - accuracy: 0.0000e+00 - val_loss: 1.0196 - val_accuracy: 0.0000e+00\n",
            "Epoch 13/15\n",
            "3/3 [==============================] - 37s 12s/step - loss: 1.0416 - accuracy: 0.0000e+00 - val_loss: 1.0190 - val_accuracy: 0.0000e+00\n",
            "Epoch 14/15\n",
            "3/3 [==============================] - 37s 13s/step - loss: 1.0410 - accuracy: 0.0000e+00 - val_loss: 1.0184 - val_accuracy: 0.0000e+00\n",
            "Epoch 15/15\n",
            "3/3 [==============================] - 37s 12s/step - loss: 1.0404 - accuracy: 0.0000e+00 - val_loss: 1.0178 - val_accuracy: 0.0000e+00\n"
          ]
        }
      ]
    },
    {
      "cell_type": "code",
      "source": [
        "# plot the loss\n",
        "import matplotlib.pyplot as plt\n",
        "plt.plot(r.history['loss'], label='train loss')\n",
        "plt.plot(r.history['val_loss'], label='val loss')\n",
        "plt.legend()\n",
        "plt.show()\n",
        "plt.savefig('LossVal_loss')\n",
        "\n",
        "# plot the accuracy\n",
        "plt.plot(r.history['accuracy'], label='train acc')\n",
        "plt.plot(r.history['val_accuracy'], label='val acc')\n",
        "plt.legend()\n",
        "plt.show()\n",
        "plt.savefig('AccVal_acc')"
      ],
      "metadata": {
        "colab": {
          "base_uri": "https://localhost:8080/",
          "height": 531
        },
        "id": "xW5xWlzsIyFw",
        "outputId": "4bc0cd71-1380-4cbf-aae8-f278c183488d"
      },
      "execution_count": 11,
      "outputs": [
        {
          "output_type": "display_data",
          "data": {
            "text/plain": [
              "<Figure size 432x288 with 1 Axes>"
            ],
            "image/png": "[encoded data removed]"
          },
          "metadata": {
            "needs_background": "light"
          }
        },
        {
          "output_type": "display_data",
          "data": {
            "text/plain": [
              "<Figure size 432x288 with 1 Axes>"
            ],
            "image/png": "[encoded data removed]"
          },
          "metadata": {
            "needs_background": "light"
          }
        },
        {
          "output_type": "display_data",
          "data": {
            "text/plain": [
              "<Figure size 432x288 with 0 Axes>"
            ]
          },
          "metadata": {}
        }
      ]
    },
    {
      "cell_type": "code",
      "source": [],
      "metadata": {
        "id": "AOKdFdV7KpM9"
      },
      "execution_count": null,
      "outputs": []
    }
  ]
}