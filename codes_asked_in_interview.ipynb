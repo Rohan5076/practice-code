{
  "nbformat": 4,
  "nbformat_minor": 0,
  "metadata": {
    "colab": {
      "provenance": [],
      "authorship_tag": "ABX9TyPqMoSKq6wS4H8OweyGP1q1",
      "include_colab_link": true
    },
    "kernelspec": {
      "name": "python3",
      "display_name": "Python 3"
    },
    "language_info": {
      "name": "python"
    }
  },
  "cells": [
    {
      "cell_type": "markdown",
      "metadata": {
        "id": "view-in-github",
        "colab_type": "text"
      },
      "source": [
        "<a href=\"https://colab.research.google.com/github/Rohan5076/practice-code/blob/main/codes_asked_in_interview.ipynb\" target=\"_parent\"><img src=\"https://colab.research.google.com/assets/colab-badge.svg\" alt=\"Open In Colab\"/></a>"
      ]
    },
    {
      "cell_type": "code",
      "execution_count": null,
      "metadata": {
        "colab": {
          "base_uri": "https://localhost:8080/"
        },
        "id": "7qodsKbPcvj5",
        "outputId": "72f238e8-bbc7-4258-d12e-74987ae04958"
      },
      "outputs": [
        {
          "output_type": "stream",
          "name": "stdout",
          "text": [
            "('rohan', 1)\n",
            "('saurabh', 6)\n",
            "('sandeep', 5)\n",
            "('satish', 7)\n"
          ]
        }
      ],
      "source": [
        "names=[\"rohan\",\"saurabh\",\"sandeep\",\"satish\"]\n",
        "list1=[1,6,5,7]\n",
        "\n",
        "a=zip(names,list1)\n",
        "\n",
        "for i in a:\n",
        "  print(i)"
      ]
    },
    {
      "cell_type": "code",
      "source": [
        "s1 = \"HUL will announce its earnings for the quarter ended September.\"\n",
        "s2 = \"Hindustan Uniliver Limited to announce its quarterly ending September.\""
      ],
      "metadata": {
        "id": "t7B_UHDY4ZlA"
      },
      "execution_count": null,
      "outputs": []
    },
    {
      "cell_type": "code",
      "source": [
        "name = ['Snowball', 'Chewy', 'Bubbles', 'Gruff']\n",
        "animal = ['Cat', 'Dog', 'Fish', 'Goat']\n",
        "age = [1, 2, 2, 6]\n",
        "z = zip(name, animal, age)\n",
        "a=[]\n",
        "for i in z:\n",
        "  a.append(i)\n"
      ],
      "metadata": {
        "id": "Xo0W1rd0-YGX"
      },
      "execution_count": null,
      "outputs": []
    },
    {
      "cell_type": "code",
      "source": [
        "a=set(a)\n",
        "a"
      ],
      "metadata": {
        "colab": {
          "base_uri": "https://localhost:8080/"
        },
        "id": "YhaqDPgj-ugx",
        "outputId": "3f8f94cd-28ca-4d43-b358-344ceaf9cee4"
      },
      "execution_count": null,
      "outputs": [
        {
          "output_type": "execute_result",
          "data": {
            "text/plain": [
              "{('Bubbles', 'Fish', 2),\n",
              " ('Chewy', 'Dog', 2),\n",
              " ('Gruff', 'Goat', 6),\n",
              " ('Snowball', 'Cat', 1)}"
            ]
          },
          "metadata": {},
          "execution_count": 9
        }
      ]
    },
    {
      "cell_type": "code",
      "source": [
        "p=2\n",
        "q=3\n",
        "print(p>=q==p)"
      ],
      "metadata": {
        "colab": {
          "base_uri": "https://localhost:8080/"
        },
        "id": "M72knQd1tpTb",
        "outputId": "202b7f24-ab3c-4d77-e633-6dd03656c57d"
      },
      "execution_count": null,
      "outputs": [
        {
          "output_type": "stream",
          "name": "stdout",
          "text": [
            "False\n"
          ]
        }
      ]
    },
    {
      "cell_type": "code",
      "source": [
        "\n",
        "list1 = [2,3,1,4]\n",
        "p = list1*2\n",
        "print(p)"
      ],
      "metadata": {
        "colab": {
          "base_uri": "https://localhost:8080/"
        },
        "id": "KvEfY6tZ02tj",
        "outputId": "9d7dc174-914b-464c-d9d1-b14d8cc08bfa"
      },
      "execution_count": null,
      "outputs": [
        {
          "output_type": "stream",
          "name": "stdout",
          "text": [
            "[2, 3, 1, 4, 2, 3, 1, 4]\n"
          ]
        }
      ]
    },
    {
      "cell_type": "code",
      "source": [
        "list1=[1,1,2,1,3,1,5,8,4]\n",
        "for i in range(len(list1)):\n",
        "  for j in range(len(list1)):\n",
        "    if (i==j):\n",
        "      break\n",
        "    else:\n",
        "print(list1)\n"
      ],
      "metadata": {
        "colab": {
          "base_uri": "https://localhost:8080/"
        },
        "id": "Fozlun4_W94j",
        "outputId": "cd9e3370-a88d-467c-f6a8-b399ac0c59a7"
      },
      "execution_count": null,
      "outputs": [
        {
          "output_type": "stream",
          "name": "stdout",
          "text": [
            "[1, 1, 2, 1, 3, 1, 5, 8, 4]\n"
          ]
        }
      ]
    },
    {
      "cell_type": "code",
      "source": [
        "\n",
        "from collections import Counter\n",
        "# Python 3 code to demonstrate\n",
        "# removing duplicated from list\n",
        "# using Counter() method\n",
        " \n",
        "# initializing list\n",
        "arr = [1, 5, 3, 6, 3, 5, 6, 1]\n",
        "print ('The original list is : '+ str(arr))\n",
        " \n",
        "# using Counter() + keys()\n",
        "# to remove duplicated\n",
        "# from list\n",
        "\n",
        "\n",
        " \n",
        "# printing list after removal\n",
        "# of duplicate\n",
        "print('The list after removing duplicates :'\n",
        "        ,[*Counter(arr)])"
      ],
      "metadata": {
        "colab": {
          "base_uri": "https://localhost:8080/"
        },
        "id": "Gr77pxZ-W_C8",
        "outputId": "31899ef9-3b55-407b-b9e3-48cee32a1801"
      },
      "execution_count": null,
      "outputs": [
        {
          "output_type": "stream",
          "name": "stdout",
          "text": [
            "The original list is : [1, 5, 3, 6, 3, 5, 6, 1]\n",
            "The list after removing duplicates : [1, 5, 3, 6]\n"
          ]
        }
      ]
    },
    {
      "cell_type": "code",
      "source": [
        "from collections import Counter\n",
        "arr = [1, 5, 3, 6, 3, 5, 6, 1]\n",
        "print([*Counter(arr)])"
      ],
      "metadata": {
        "colab": {
          "base_uri": "https://localhost:8080/"
        },
        "id": "ozDquqDyYMsh",
        "outputId": "1c4255ca-eeb1-421d-bd6b-42a3140fb8f5"
      },
      "execution_count": 3,
      "outputs": [
        {
          "output_type": "stream",
          "name": "stdout",
          "text": [
            "[1, 5, 3, 6]\n"
          ]
        }
      ]
    },
    {
      "cell_type": "code",
      "source": [
        "import re\n",
        "str1=\"my names is   ashish my nickname is   jack\"\n",
        "\n",
        "print(\"text withoout spaces :\",re.sub(' +',' ',str1))\n",
        "\n"
      ],
      "metadata": {
        "colab": {
          "base_uri": "https://localhost:8080/"
        },
        "id": "G7JDEBl_c2-Q",
        "outputId": "557eb278-42b7-436e-e61e-edddaed5588b"
      },
      "execution_count": null,
      "outputs": [
        {
          "output_type": "stream",
          "name": "stdout",
          "text": [
            "text withoout spaces : my names is ashish my nickname is jack\n"
          ]
        }
      ]
    },
    {
      "cell_type": "code",
      "source": [
        "str_list=str1.split()\n",
        "unique_words = set(str_list)\n",
        "\n",
        "for words in unique_words:\n",
        "  print(\"freq of :\",words,\"is :\",str_list.count(words))\n"
      ],
      "metadata": {
        "colab": {
          "base_uri": "https://localhost:8080/"
        },
        "id": "Eb6FF7KbeweT",
        "outputId": "8e8d74c2-9f0e-4206-8200-6b303142d14a"
      },
      "execution_count": null,
      "outputs": [
        {
          "output_type": "stream",
          "name": "stdout",
          "text": [
            "freq of  jack is : 1\n",
            "freq of  my is : 2\n",
            "freq of  names is : 1\n",
            "freq of  ashish is : 1\n",
            "freq of  is is : 2\n",
            "freq of  nickname is : 1\n"
          ]
        }
      ]
    },
    {
      "cell_type": "code",
      "source": [
        "import pandas as pd\n",
        "list1=[2,4,5,6,8,45,4,5,5,1]\n",
        "windows_size=3\n",
        "\n",
        "number_series=pd.Series(list1)\n",
        "\n",
        "windows=number_series.expanding()\n",
        "\n",
        "moving_average=windows.mean()\n",
        "\n",
        "moving_average_list=moving_average.tolist()\n",
        "final_list = moving_average_list[windows_size - 1:]\n",
        "print(final_list)"
      ],
      "metadata": {
        "colab": {
          "base_uri": "https://localhost:8080/"
        },
        "id": "OpjGZCCTghDd",
        "outputId": "79cf212d-f0b3-47a4-c724-9aa8e9d14e63"
      },
      "execution_count": null,
      "outputs": [
        {
          "output_type": "stream",
          "name": "stdout",
          "text": [
            "[3.6666666666666665, 4.25, 5.0, 11.666666666666666, 10.571428571428571, 9.875, 9.333333333333334, 8.5]\n"
          ]
        }
      ]
    },
    {
      "cell_type": "code",
      "source": [
        "\n",
        "# Python program to calculate\n",
        "# simple moving averages using pandas\n",
        "import pandas as pd\n",
        "  \n",
        "arr = [1, 2, 3, 7, 9]\n",
        "window_size = 3\n",
        "  \n",
        "# Convert array of integers to pandas series\n",
        "numbers_series = pd.Series(arr)\n",
        "  \n",
        "# Get the window of series\n",
        "# of observations of specified window size\n",
        "windows = numbers_series.rolling(window_size)\n",
        "  \n",
        "# Create a series of moving\n",
        "# averages of each window\n",
        "moving_averages = windows.mean()\n",
        "  \n",
        "# Convert pandas series back to list\n",
        "moving_averages_list = moving_averages.tolist()\n",
        "  \n",
        "# Remove null entries from the list\n",
        "final_list = moving_averages_list[window_size - 1:]\n",
        "  \n",
        "print(final_list)"
      ],
      "metadata": {
        "id": "YZF4kj1UJVIw"
      },
      "execution_count": null,
      "outputs": []
    }
  ]
}