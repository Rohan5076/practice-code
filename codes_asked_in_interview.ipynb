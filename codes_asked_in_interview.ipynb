{
  "nbformat": 4,
  "nbformat_minor": 0,
  "metadata": {
    "colab": {
      "provenance": [],
      "authorship_tag": "ABX9TyMUyciDEk8Q7Iwat1kkpUlC",
      "include_colab_link": true
    },
    "kernelspec": {
      "name": "python3",
      "display_name": "Python 3"
    },
    "language_info": {
      "name": "python"
    }
  },
  "cells": [
    {
      "cell_type": "markdown",
      "metadata": {
        "id": "view-in-github",
        "colab_type": "text"
      },
      "source": [
        "<a href=\"https://colab.research.google.com/github/Rohan5076/practice-code/blob/main/codes_asked_in_interview.ipynb\" target=\"_parent\"><img src=\"https://colab.research.google.com/assets/colab-badge.svg\" alt=\"Open In Colab\"/></a>"
      ]
    },
    {
      "cell_type": "code",
      "execution_count": null,
      "metadata": {
        "colab": {
          "base_uri": "https://localhost:8080/"
        },
        "id": "7qodsKbPcvj5",
        "outputId": "72f238e8-bbc7-4258-d12e-74987ae04958"
      },
      "outputs": [
        {
          "output_type": "stream",
          "name": "stdout",
          "text": [
            "('rohan', 1)\n",
            "('saurabh', 6)\n",
            "('sandeep', 5)\n",
            "('satish', 7)\n"
          ]
        }
      ],
      "source": [
        "names=[\"rohan\",\"saurabh\",\"sandeep\",\"satish\"]\n",
        "list1=[1,6,5,7]\n",
        "\n",
        "a=zip(names,list1)\n",
        "\n",
        "for i in a:\n",
        "  print(i)"
      ]
    },
    {
      "cell_type": "code",
      "source": [
        "import re\n",
        "str1=\"my names is   ashish my nickname is   jack\"\n",
        "\n",
        "print(\"text withoout spaces :\",re.sub(' +',' ',str1))\n",
        "\n"
      ],
      "metadata": {
        "colab": {
          "base_uri": "https://localhost:8080/"
        },
        "id": "G7JDEBl_c2-Q",
        "outputId": "557eb278-42b7-436e-e61e-edddaed5588b"
      },
      "execution_count": null,
      "outputs": [
        {
          "output_type": "stream",
          "name": "stdout",
          "text": [
            "text withoout spaces : my names is ashish my nickname is jack\n"
          ]
        }
      ]
    },
    {
      "cell_type": "code",
      "source": [
        "str_list=str1.split()\n",
        "unique_words = set(str_list)\n",
        "\n",
        "for words in unique_words:\n",
        "  print(\"freq of :\",words,\"is :\",str_list.count(words))\n"
      ],
      "metadata": {
        "colab": {
          "base_uri": "https://localhost:8080/"
        },
        "id": "Eb6FF7KbeweT",
        "outputId": "8e8d74c2-9f0e-4206-8200-6b303142d14a"
      },
      "execution_count": null,
      "outputs": [
        {
          "output_type": "stream",
          "name": "stdout",
          "text": [
            "freq of  jack is : 1\n",
            "freq of  my is : 2\n",
            "freq of  names is : 1\n",
            "freq of  ashish is : 1\n",
            "freq of  is is : 2\n",
            "freq of  nickname is : 1\n"
          ]
        }
      ]
    },
    {
      "cell_type": "code",
      "source": [
        "import pandas as pd\n",
        "list1=[2,4,5,6,8,45,4,5,5,1]\n",
        "windows_size=3\n",
        "\n",
        "number_series=pd.Series(list1)\n",
        "\n",
        "windows=number_series.expanding()\n",
        "\n",
        "moving_average=windows.mean()\n",
        "\n",
        "moving_average_list=moving_average.tolist()\n",
        "final_list = moving_average_list[windows_size - 1:]\n",
        "print(final_list)"
      ],
      "metadata": {
        "colab": {
          "base_uri": "https://localhost:8080/"
        },
        "id": "OpjGZCCTghDd",
        "outputId": "79cf212d-f0b3-47a4-c724-9aa8e9d14e63"
      },
      "execution_count": 2,
      "outputs": [
        {
          "output_type": "stream",
          "name": "stdout",
          "text": [
            "[3.6666666666666665, 4.25, 5.0, 11.666666666666666, 10.571428571428571, 9.875, 9.333333333333334, 8.5]\n"
          ]
        }
      ]
    },
    {
      "cell_type": "code",
      "source": [
        "\n",
        "# Python program to calculate\n",
        "# simple moving averages using pandas\n",
        "import pandas as pd\n",
        "  \n",
        "arr = [1, 2, 3, 7, 9]\n",
        "window_size = 3\n",
        "  \n",
        "# Convert array of integers to pandas series\n",
        "numbers_series = pd.Series(arr)\n",
        "  \n",
        "# Get the window of series\n",
        "# of observations of specified window size\n",
        "windows = numbers_series.rolling(window_size)\n",
        "  \n",
        "# Create a series of moving\n",
        "# averages of each window\n",
        "moving_averages = windows.mean()\n",
        "  \n",
        "# Convert pandas series back to list\n",
        "moving_averages_list = moving_averages.tolist()\n",
        "  \n",
        "# Remove null entries from the list\n",
        "final_list = moving_averages_list[window_size - 1:]\n",
        "  \n",
        "print(final_list)"
      ],
      "metadata": {
        "id": "YZF4kj1UJVIw"
      },
      "execution_count": null,
      "outputs": []
    }
  ]
}