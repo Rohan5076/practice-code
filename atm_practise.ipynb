{
  "nbformat": 4,
  "nbformat_minor": 0,
  "metadata": {
    "colab": {
      "name": "atm_practise.ipynb",
      "provenance": [],
      "collapsed_sections": [],
      "authorship_tag": "ABX9TyPG53mkYd74tBiqKu9qm9vO",
      "include_colab_link": true
    },
    "kernelspec": {
      "name": "python3",
      "display_name": "Python 3"
    },
    "language_info": {
      "name": "python"
    }
  },
  "cells": [
    {
      "cell_type": "markdown",
      "metadata": {
        "id": "view-in-github",
        "colab_type": "text"
      },
      "source": [
        "<a href=\"https://colab.research.google.com/github/Rohan5076/practice-code/blob/main/atm_practise.ipynb\" target=\"_parent\"><img src=\"https://colab.research.google.com/assets/colab-badge.svg\" alt=\"Open In Colab\"/></a>"
      ]
    },
    {
      "cell_type": "code",
      "execution_count": 6,
      "metadata": {
        "colab": {
          "base_uri": "https://localhost:8080/"
        },
        "id": "5YGawW-5xOk6",
        "outputId": "4bd976a9-c45a-4a30-930a-0a6cbba52f2f"
      },
      "outputs": [
        {
          "name": "stdout",
          "output_type": "stream",
          "text": [
            "\n",
            "welcome to atm\n",
            "please enter the four digit pin1234\n",
            "what do you want to do\n",
            "Enter 1 to Withdraw cash\n",
            " Enter 2 for Blance Enquiry\n",
            " Enter 3 for quits\n",
            "Enter the Number corresponding your choice1\n",
            "Enter the amount which you want to withdraw100\n",
            "100 rupees successfully withdrawn the remaining balance is 900\n",
            "\n",
            "what do you want to do\n",
            "Enter 1 to Withdraw cash\n",
            " Enter 2 for Blance Enquiry\n",
            " Enter 3 for quits\n",
            "Enter the Number corresponding your choice3\n"
          ]
        }
      ],
      "source": [
        "user={'pin':1234,'balance':1000}\n",
        "def withdraw_cash():\n",
        "  while True:\n",
        "    amount=int(input(\"Enter the amount which you want to withdraw\"))\n",
        "    if amount>user[\"balance\"]:\n",
        "       print(\"you dont have sufficent balance\")\n",
        "    else:\n",
        "      user['balance']=user['balance']-amount\n",
        "      print(f\"{ amount } rupees successfully withdrawn the remaining balance is {user['balance']}\")\n",
        "      print('')\n",
        "      return False\n",
        "def balance_enquiry():\n",
        "  print(f\"total balance{user['balance']}\")\n",
        "\n",
        "is_quit=False\n",
        "print('')\n",
        "print(\"welcome to atm\")\n",
        "pin=int(input(\"please enter the four digit pin\"))\n",
        "if pin==user['pin']:\n",
        "  while is_quit==False:\n",
        "    print(\"what do you want to do\")\n",
        "    print(\"Enter 1 to Withdraw cash\\n Enter 2 for Blance Enquiry\\n Enter 3 for quits\")\n",
        "    query=int(input(\"Enter the Number corresponding your choice\"))\n",
        "\n",
        "    if query==1:\n",
        "      withdraw_cash()\n",
        "    elif query==2:\n",
        "      balance_enquiry()\n",
        "    elif query==3:\n",
        "      is_quit=True\n",
        "    else:\n",
        "      print(\"please enter a correct value shown\")\n",
        "else:\n",
        "  print(\"entered wrong pin\")"
      ]
    },
    {
      "cell_type": "code",
      "source": [
        ""
      ],
      "metadata": {
        "id": "aYPzKaP953-8"
      },
      "execution_count": null,
      "outputs": []
    }
  ]
}